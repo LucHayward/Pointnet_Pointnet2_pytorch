{
 "cells": [
  {
   "cell_type": "code",
   "execution_count": 1,
   "outputs": [],
   "source": [
    "import numpy as np\n",
    "from pathlib import Path\n",
    "import Visualisation_utils\n",
    "import matplotlib.pyplot as plt\n",
    "\n",
    "from active_learning import get_high_variance_cells\n",
    "\n",
    "LOG_DIR = Path(\"log/active_learning/AL: testing\")\n"
   ],
   "metadata": {
    "collapsed": false,
    "pycharm": {
     "name": "#%%\n"
    }
   }
  },
  {
   "cell_type": "code",
   "execution_count": 2,
   "outputs": [],
   "source": [
    "with np.load(LOG_DIR / 'train' / 'val_predictions.npz') as npz_file:\n",
    "    predict_points = npz_file['points']\n",
    "    predict_preds = npz_file['preds']\n",
    "    predict_target = npz_file['target']\n",
    "    predict_variance = npz_file['variance']  # Variances are normalised to [-1,1]\n",
    "    predict_point_variance = npz_file['point_variance']\n",
    "    predict_grid_mask = npz_file['grid_mask']\n",
    "    predict_features = npz_file['features']\n",
    "    predict_samples_per_cell = npz_file['samples_per_cell']"
   ],
   "metadata": {
    "collapsed": false,
    "pycharm": {
     "name": "#%%\n"
    }
   }
  },
  {
   "cell_type": "code",
   "execution_count": 3,
   "outputs": [],
   "source": [
    "cell_centers = np.array([np.mean(predict_points[np.where(predict_grid_mask==i)[0],:3], axis=0) for i in range(len(predict_variance))])"
   ],
   "metadata": {
    "collapsed": false,
    "pycharm": {
     "name": "#%%\n"
    }
   }
  },
  {
   "cell_type": "code",
   "execution_count": 4,
   "outputs": [
    {
     "name": "stdout",
     "output_type": "stream",
     "text": [
      "(3, 2)\n"
     ]
    },
    {
     "data": {
      "text/plain": "array([ 1., 11.])"
     },
     "execution_count": 4,
     "metadata": {},
     "output_type": "execute_result"
    }
   ],
   "source": [
    "a = np.array([[0,10],[1,11],[2,12]])\n",
    "print(a.shape)\n",
    "np.mean(a, axis=0)"
   ],
   "metadata": {
    "collapsed": false,
    "pycharm": {
     "name": "#%%\n"
    }
   }
  },
  {
   "cell_type": "code",
   "execution_count": 18,
   "outputs": [
    {
     "data": {
      "text/plain": "(-20.0, 20.0)"
     },
     "execution_count": 18,
     "metadata": {},
     "output_type": "execute_result"
    },
    {
     "data": {
      "text/plain": "<Figure size 432x288 with 1 Axes>",
      "image/png": "[encoded data removed]"
     },
     "metadata": {
      "needs_background": "light"
     },
     "output_type": "display_data"
    }
   ],
   "source": [
    "plt.scatter(cell_centers[:,0], cell_centers[:,1], s=3)\n",
    "plt.xlim(-20,20)\n",
    "plt.ylim(-20,20)"
   ],
   "metadata": {
    "collapsed": false,
    "pycharm": {
     "name": "#%%\n"
    }
   }
  },
  {
   "cell_type": "code",
   "execution_count": 6,
   "outputs": [],
   "source": [
    "variance_ordering_idxs = predict_variance.argsort()[::-1]\n",
    "num_cells = 10"
   ],
   "metadata": {
    "collapsed": false,
    "pycharm": {
     "name": "#%%\n"
    }
   }
  },
  {
   "cell_type": "code",
   "execution_count": null,
   "outputs": [],
   "source": [
    "import matplotlib.pyplot as plt\n",
    "from sklearn import cluster"
   ],
   "metadata": {
    "collapsed": false,
    "pycharm": {
     "name": "#%%\n",
     "is_executing": true
    }
   }
  },
  {
   "cell_type": "code",
   "execution_count": null,
   "outputs": [],
   "source": [
    "kmeans = cluster.KMeans(n_clusters=num_cells, random_state=0).fit(predict_features)"
   ],
   "metadata": {
    "collapsed": false,
    "pycharm": {
     "name": "#%%\n",
     "is_executing": true
    }
   }
  },
  {
   "cell_type": "markdown",
   "source": [
    "## ReDAL\n",
    "Score each sample with its uncertainty U\n",
    "\n",
    "Clusters the samples into K clusters based on their feature embeddings\n",
    "\n",
    "Sort the regions based on the uncertainty U\n",
    "\n",
    "For each region, penalise the scores of the remaining regions in that cluster by some factor P\n",
    "\n",
    "The result is a ranking of regions based on uncertainty and diversity (such that the most uncertain regions are ranked first, but repeat regions from the same cluster are unlikely)."
   ],
   "metadata": {
    "collapsed": false,
    "pycharm": {
     "name": "#%% md\n"
    }
   }
  },
  {
   "cell_type": "code",
   "execution_count": null,
   "outputs": [],
   "source": [
    "for idx in variance_ordering_idxs:\n",
    "    print(f\"Idx {idx}, Cluster {kmeans.labels_[idx]},  variance {predict_variance[idx]:.4f} \")"
   ],
   "metadata": {
    "collapsed": false,
    "pycharm": {
     "name": "#%%\n",
     "is_executing": true
    }
   }
  },
  {
   "cell_type": "code",
   "execution_count": null,
   "outputs": [],
   "source": [
    "penalty_factor = 0.9\n",
    "adjusted_variance = np.copy(predict_variance)\n",
    "for i, idx in enumerate(variance_ordering_idxs):\n",
    "    current_cluster = kmeans.labels_[idx]\n",
    "    for x in range(i+1, len(variance_ordering_idxs)):\n",
    "        x = variance_ordering_idxs[x]\n",
    "        if kmeans.labels_[x] == current_cluster:\n",
    "            adjusted_variance[x] *= penalty_factor\n",
    "\n",
    "print(f\"Old variance_ordering_idxs:\\n{variance_ordering_idxs[:10]}\")\n",
    "adjusted_variance_ordering_idxs = adjusted_variance.argsort()[::-1]\n",
    "print(f\"New variance_ordering_idxs:\\n{adjusted_variance_ordering_idxs[:10]}\")\n",
    "for idx in adjusted_variance_ordering_idxs:\n",
    "    print(f\"Idx {idx}, Cluster {kmeans.labels_[idx]},  variance {adjusted_variance[idx]:.4f}\")"
   ],
   "metadata": {
    "collapsed": false,
    "pycharm": {
     "name": "#%%\n",
     "is_executing": true
    }
   }
  },
  {
   "cell_type": "code",
   "execution_count": null,
   "outputs": [],
   "source": [],
   "metadata": {
    "collapsed": false,
    "pycharm": {
     "name": "#%%\n",
     "is_executing": true
    }
   }
  }
 ],
 "metadata": {
  "kernelspec": {
   "display_name": "Python 3",
   "language": "python",
   "name": "python3"
  },
  "language_info": {
   "codemirror_mode": {
    "name": "ipython",
    "version": 2
   },
   "file_extension": ".py",
   "mimetype": "text/x-python",
   "name": "python",
   "nbconvert_exporter": "python",
   "pygments_lexer": "ipython2",
   "version": "2.7.6"
  }
 },
 "nbformat": 4,
 "nbformat_minor": 0
}