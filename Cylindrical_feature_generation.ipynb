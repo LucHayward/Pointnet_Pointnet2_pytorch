{
 "cells": [
  {
   "cell_type": "code",
   "execution_count": 2,
   "outputs": [],
   "source": [
    "import numpy as np\n",
    "import pptk\n",
    "from pathlib import Path"
   ],
   "metadata": {
    "collapsed": false,
    "pycharm": {
     "name": "#%%\n"
    }
   }
  },
  {
   "cell_type": "code",
   "execution_count": 3,
   "outputs": [],
   "source": [
    "pcd = np.load(\"/home/luc/PycharmProjects/Pointnet_Pointnet2_pytorch/data/PatrickData/Church/MastersFormat/church_registered.npy\").astype('float32')"
   ],
   "metadata": {
    "collapsed": false,
    "pycharm": {
     "name": "#%%\n"
    }
   }
  },
  {
   "cell_type": "code",
   "execution_count": 4,
   "outputs": [
    {
     "name": "stdout",
     "output_type": "stream",
     "text": [
      "True\n",
      "21901958\n"
     ]
    }
   ],
   "source": [
    "import faiss\n",
    "\n",
    "index = faiss.IndexFlat(2)\n",
    "print(index.is_trained)\n",
    "pcd_xy = np.ascontiguousarray(pcd[:,0:2])\n",
    "index.add(pcd_xy)  # index only on XY\n",
    "print(index.ntotal)"
   ],
   "metadata": {
    "collapsed": false,
    "pycharm": {
     "name": "#%%\n"
    }
   }
  },
  {
   "cell_type": "code",
   "execution_count": 9,
   "outputs": [
    {
     "name": "stdout",
     "output_type": "stream",
     "text": [
      "9.3 s ± 0 ns per loop (mean ± std. dev. of 1 run, 1 loop each)\n"
     ]
    }
   ],
   "source": [
    "%%timeit -r 1\n",
    "# Find all the points some radius away from the given points in the index\n",
    "lims, D, I = index.range_search(pcd_xy[0:100], 1)"
   ],
   "metadata": {
    "collapsed": false,
    "pycharm": {
     "name": "#%%\n"
    }
   }
  },
  {
   "cell_type": "code",
   "execution_count": 13,
   "outputs": [
    {
     "name": "stdout",
     "output_type": "stream",
     "text": [
      "point_idx: 0 has neighbours [0 1 2] on average 0.05 distance away.\n",
      "point_idx: 1 has neighbours [0 1 2] on average 0.02 distance away.\n",
      "point_idx: 2 has neighbours [0 1 2] on average 0.05 distance away.\n",
      "point_idx: 3 has neighbours [3 4] on average 0.04 distance away.\n",
      "point_idx: 4 has neighbours [3 4] on average 0.04 distance away.\n",
      "point_idx: 5 has neighbours [5] on average 0.00 distance away.\n",
      "point_idx: 6 has neighbours [ 6  7 13 34 35 36 37 39 40 41 44 46 47 53] on average 0.39 distance away.\n",
      "point_idx: 7 has neighbours [ 6  7 13 34 35 36 37 39 40 41 44 46 47 53] on average 0.33 distance away.\n",
      "point_idx: 8 has neighbours [ 8  9 10 11 12 14 15 16 17 19 20 21 22 23 24 25 26 27 30 31 33 42 59] on average 0.12 distance away.\n",
      "point_idx: 9 has neighbours [ 8  9 10 11 12 14 15 16 17 19 20 21 22 23 24 25 26 27 30 31 33 42 59] on average 0.08 distance away.\n",
      "point_idx: 10 has neighbours [ 8  9 10 11 12 14 15 16 17 19 20 21 22 23 24 25 26 27 30 31 33 42 59] on average 0.08 distance away.\n",
      "point_idx: 11 has neighbours [ 8  9 10 11 12 14 15 16 17 19 20 21 22 23 24 25 26 27 30 31 33 42 59] on average 0.08 distance away.\n",
      "point_idx: 12 has neighbours [ 8  9 10 11 12 14 15 16 17 19 20 21 22 23 24 25 26 27 30 31 33 42 59] on average 0.10 distance away.\n",
      "point_idx: 13 has neighbours [ 6  7 13 34 35 36 37 39 40 41 44 46 47 53] on average 0.38 distance away.\n",
      "point_idx: 14 has neighbours [ 8  9 10 11 12 14 15 16 17 19 20 21 22 23 24 25 26 27 30 31 33 42 59] on average 0.07 distance away.\n",
      "point_idx: 15 has neighbours [ 8  9 10 11 12 14 15 16 17 19 20 21 22 23 24 25 26 27 30 31 33 42 59] on average 0.07 distance away.\n",
      "point_idx: 16 has neighbours [ 8  9 10 11 12 14 15 16 17 19 20 21 22 23 24 25 26 27 30 31 33 42 59] on average 0.07 distance away.\n",
      "point_idx: 17 has neighbours [ 8  9 10 11 12 14 15 16 17 19 20 21 22 23 24 25 26 27 30 31 33 42 59] on average 0.08 distance away.\n",
      "point_idx: 18 has neighbours [18 56] on average 0.34 distance away.\n",
      "point_idx: 19 has neighbours [ 8  9 10 11 12 14 15 16 17 19 20 21 22 23 24 25 26 27 30 31 33 42 59] on average 0.07 distance away.\n",
      "point_idx: 20 has neighbours [ 8  9 10 11 12 14 15 16 17 19 20 21 22 23 24 25 26 27 30 31 33 42 59] on average 0.06 distance away.\n",
      "point_idx: 21 has neighbours [ 8  9 10 11 12 14 15 16 17 19 20 21 22 23 24 25 26 27 30 31 33 42 59] on average 0.06 distance away.\n",
      "point_idx: 22 has neighbours [ 8  9 10 11 12 14 15 16 17 19 20 21 22 23 24 25 26 27 30 31 33 42 59] on average 0.06 distance away.\n",
      "point_idx: 23 has neighbours [ 8  9 10 11 12 14 15 16 17 19 20 21 22 23 24 25 26 27 30 31 33 42 59] on average 0.08 distance away.\n",
      "point_idx: 24 has neighbours [ 8  9 10 11 12 14 15 16 17 19 20 21 22 23 24 25 26 27 30 31 33 42 59] on average 0.06 distance away.\n",
      "point_idx: 25 has neighbours [ 8  9 10 11 12 14 15 16 17 19 20 21 22 23 24 25 26 27 30 31 33 42 59] on average 0.06 distance away.\n",
      "point_idx: 26 has neighbours [ 8  9 10 11 12 14 15 16 17 19 20 21 22 23 24 25 26 27 30 31 33 42 59] on average 0.06 distance away.\n",
      "point_idx: 27 has neighbours [ 8  9 10 11 12 14 15 16 17 19 20 21 22 23 24 25 26 27 30 31 33 42 59] on average 0.06 distance away.\n",
      "point_idx: 28 has neighbours [28 29 32] on average 0.00 distance away.\n",
      "point_idx: 29 has neighbours [28 29 32] on average 0.01 distance away.\n",
      "point_idx: 30 has neighbours [ 8  9 10 11 12 14 15 16 17 19 20 21 22 23 24 25 26 27 30 31 33 42 59] on average 0.06 distance away.\n",
      "point_idx: 31 has neighbours [ 8  9 10 11 12 14 15 16 17 19 20 21 22 23 24 25 26 27 30 31 33 42 59] on average 0.06 distance away.\n",
      "point_idx: 32 has neighbours [28 29 32] on average 0.00 distance away.\n",
      "point_idx: 33 has neighbours [ 8  9 10 11 12 14 15 16 17 19 20 21 22 23 24 25 26 27 30 31 33 42 59] on average 0.09 distance away.\n",
      "point_idx: 34 has neighbours [ 6  7 13 34 35 36 37 39 40 41 44 46 47 53] on average 0.11 distance away.\n",
      "point_idx: 35 has neighbours [ 6  7 13 34 35 36 37 39 40 41 44 46 47 53] on average 0.11 distance away.\n",
      "point_idx: 36 has neighbours [ 6  7 13 34 35 36 37 39 40 41 44 46 47 53] on average 0.12 distance away.\n",
      "point_idx: 37 has neighbours [ 6  7 13 34 35 36 37 39 40 41 44 46 47 53] on average 0.15 distance away.\n",
      "point_idx: 38 has neighbours [38 43 45 48 49 50 51 52 54 55 57 58 60 61 62 63] on average 0.14 distance away.\n",
      "point_idx: 39 has neighbours [ 6  7 13 34 35 36 37 39 40 41 44 46 47 53] on average 0.16 distance away.\n",
      "point_idx: 40 has neighbours [ 6  7 13 34 35 36 37 39 40 41 44 46 47 53] on average 0.16 distance away.\n",
      "point_idx: 41 has neighbours [ 6  7 13 34 35 36 37 39 40 41 44 46 47 53] on average 0.16 distance away.\n",
      "point_idx: 42 has neighbours [ 8  9 10 11 12 14 15 16 17 19 20 21 22 23 24 25 26 27 30 31 33 42 59] on average 0.54 distance away.\n",
      "point_idx: 43 has neighbours [38 43 45 48 49 50 51 52 54 55 57 58 60 61 62 63] on average 0.11 distance away.\n",
      "point_idx: 44 has neighbours [ 6  7 13 34 35 36 37 39 40 41 44 46 47 53] on average 0.16 distance away.\n",
      "point_idx: 45 has neighbours [38 43 45 48 49 50 51 52 54 55 57 58 60 61 62 63] on average 0.09 distance away.\n",
      "point_idx: 46 has neighbours [ 6  7 13 34 35 36 37 39 40 41 44 46 47 53] on average 0.17 distance away.\n",
      "point_idx: 47 has neighbours [ 6  7 13 34 35 36 37 39 40 41 44 46 47 53] on average 0.21 distance away.\n",
      "point_idx: 48 has neighbours [38 43 45 48 49 50 51 52 54 55 57 58 60 61 62 63] on average 0.14 distance away.\n",
      "point_idx: 49 has neighbours [38 43 45 48 49 50 51 52 54 55 57 58 60 61 62 63] on average 0.14 distance away.\n",
      "point_idx: 50 has neighbours [38 43 45 48 49 50 51 52 54 55 57 58 60 61 62 63] on average 0.10 distance away.\n",
      "point_idx: 51 has neighbours [38 43 45 48 49 50 51 52 54 55 57 58 60 61 62 63] on average 0.20 distance away.\n",
      "point_idx: 52 has neighbours [38 43 45 48 49 50 51 52 54 55 57 58 60 61 62 63] on average 0.14 distance away.\n",
      "point_idx: 53 has neighbours [ 6  7 13 34 35 36 37 39 40 41 44 46 47 53] on average 0.26 distance away.\n",
      "point_idx: 54 has neighbours [38 43 45 48 49 50 51 52 54 55 57 58 60 61 62 63] on average 0.10 distance away.\n",
      "point_idx: 55 has neighbours [38 43 45 48 49 50 51 52 54 55 57 58 60 61 62 63] on average 0.11 distance away.\n",
      "point_idx: 56 has neighbours [18 56 65 66 67 68 71 74 75 76] on average 0.73 distance away.\n",
      "point_idx: 57 has neighbours [38 43 45 48 49 50 51 52 54 55 57 58 60 61 62 63] on average 0.19 distance away.\n",
      "point_idx: 58 has neighbours [38 43 45 48 49 50 51 52 54 55 57 58 60 61 62 63] on average 0.13 distance away.\n",
      "point_idx: 59 has neighbours [ 8  9 10 11 12 14 15 16 17 19 20 21 22 23 24 25 26 27 30 31 33 42 59] on average 0.52 distance away.\n",
      "point_idx: 60 has neighbours [38 43 45 48 49 50 51 52 54 55 57 58 60 61 62 63] on average 0.12 distance away.\n",
      "point_idx: 61 has neighbours [38 43 45 48 49 50 51 52 54 55 57 58 60 61 62 63] on average 0.19 distance away.\n",
      "point_idx: 62 has neighbours [38 43 45 48 49 50 51 52 54 55 57 58 60 61 62 63] on average 0.12 distance away.\n",
      "point_idx: 63 has neighbours [38 43 45 48 49 50 51 52 54 55 57 58 60 61 62 63] on average 0.21 distance away.\n",
      "point_idx: 64 has neighbours [64 65 68 69 70 71 72 73 74 76 77 78 80 81 82 83 84] on average 0.61 distance away.\n",
      "point_idx: 65 has neighbours [56 64 65 66 67 68 70 71 72 73 74 75 76 77 78 79 80 81 85 86 87] on average 0.27 distance away.\n",
      "point_idx: 66 has neighbours [56 65 66 67 68 71 72 74 75 76 77 79 80 81 87] on average 0.45 distance away.\n",
      "point_idx: 67 has neighbours [56 65 66 67 68 71 72 74 75 76 77 79 80 81 87] on average 0.45 distance away.\n",
      "point_idx: 68 has neighbours [56 64 65 66 67 68 70 71 72 73 74 75 76 77 78 79 80 81 82 83 84 85 86 87] on average 0.31 distance away.\n",
      "point_idx: 69 has neighbours [64 69 70 72 73 78 82 83 84] on average 0.32 distance away.\n",
      "point_idx: 70 has neighbours [64 65 68 69 70 71 72 73 74 75 76 77 78 79 80 81 82 83 84 85 86 87] on average 0.26 distance away.\n",
      "point_idx: 71 has neighbours [56 64 65 66 67 68 70 71 72 73 74 75 76 77 78 79 80 81 85 86 87] on average 0.29 distance away.\n",
      "point_idx: 72 has neighbours [64 65 66 67 68 69 70 71 72 73 74 75 76 77 78 79 80 81 82 83 84 85 86 87] on average 0.29 distance away.\n",
      "point_idx: 73 has neighbours [64 65 68 69 70 71 72 73 74 75 76 77 78 79 80 81 82 83 84 85 86 87] on average 0.41 distance away.\n",
      "point_idx: 74 has neighbours [56 64 65 66 67 68 70 71 72 73 74 75 76 77 78 79 80 81 82 83 84 85 86 87] on average 0.30 distance away.\n",
      "point_idx: 75 has neighbours [56 65 66 67 68 70 71 72 73 74 75 76 77 79 80 81 85 86 87] on average 0.25 distance away.\n",
      "point_idx: 76 has neighbours [56 64 65 66 67 68 70 71 72 73 74 75 76 77 78 79 80 81 85 86 87] on average 0.26 distance away.\n",
      "point_idx: 77 has neighbours [64 65 66 67 68 70 71 72 73 74 75 76 77 78 79 80 81 82 83 85 86 87] on average 0.27 distance away.\n",
      "point_idx: 78 has neighbours [64 65 68 69 70 71 72 73 74 76 77 78 79 80 81 82 83 84 85 86 87] on average 0.43 distance away.\n",
      "point_idx: 79 has neighbours [65 66 67 68 70 71 72 73 74 75 76 77 78 79 80 81 85 86 87] on average 0.19 distance away.\n",
      "point_idx: 80 has neighbours [64 65 66 67 68 70 71 72 73 74 75 76 77 78 79 80 81 82 83 85 86 87] on average 0.28 distance away.\n",
      "point_idx: 81 has neighbours [64 65 66 67 68 70 71 72 73 74 75 76 77 78 79 80 81 82 83 84 85 86 87] on average 0.29 distance away.\n",
      "point_idx: 82 has neighbours [64 68 69 70 72 73 74 77 78 80 81 82 83 84 85 86 87] on average 0.44 distance away.\n",
      "point_idx: 83 has neighbours [64 68 69 70 72 73 74 77 78 80 81 82 83 84 85 86 87] on average 0.43 distance away.\n",
      "point_idx: 84 has neighbours [64 68 69 70 72 73 74 78 81 82 83 84 85 86 87] on average 0.45 distance away.\n",
      "point_idx: 85 has neighbours [65 68 70 71 72 73 74 75 76 77 78 79 80 81 82 83 84 85 86 87] on average 0.26 distance away.\n",
      "point_idx: 86 has neighbours [65 68 70 71 72 73 74 75 76 77 78 79 80 81 82 83 84 85 86 87] on average 0.29 distance away.\n",
      "point_idx: 87 has neighbours [65 66 67 68 70 71 72 73 74 75 76 77 78 79 80 81 82 83 84 85 86 87] on average 0.38 distance away.\n",
      "point_idx: 88 has neighbours [ 88  89  90  91  92  93  94  95  96  97  98  99 100 101 102 103 104 105] on average 0.02 distance away.\n",
      "point_idx: 89 has neighbours [ 88  89  90  91  92  93  94  95  96  97  98  99 100 101 102 103 104 105] on average 0.01 distance away.\n",
      "point_idx: 90 has neighbours [ 88  89  90  91  92  93  94  95  96  97  98  99 100 101 102 103 104 105] on average 0.01 distance away.\n",
      "point_idx: 91 has neighbours [ 88  89  90  91  92  93  94  95  96  97  98  99 100 101 102 103 104 105] on average 0.02 distance away.\n",
      "point_idx: 92 has neighbours [ 88  89  90  91  92  93  94  95  96  97  98  99 100 101 102 103 104 105] on average 0.01 distance away.\n",
      "point_idx: 93 has neighbours [ 88  89  90  91  92  93  94  95  96  97  98  99 100 101 102 103 104 105] on average 0.02 distance away.\n",
      "point_idx: 94 has neighbours [ 88  89  90  91  92  93  94  95  96  97  98  99 100 101 102 103 104 105] on average 0.01 distance away.\n",
      "point_idx: 95 has neighbours [ 88  89  90  91  92  93  94  95  96  97  98  99 100 101 102 103 104 105] on average 0.02 distance away.\n",
      "point_idx: 96 has neighbours [ 88  89  90  91  92  93  94  95  96  97  98  99 100 101 102 103 104 105] on average 0.02 distance away.\n",
      "point_idx: 97 has neighbours [ 88  89  90  91  92  93  94  95  96  97  98  99 100 101 102 103 104 105] on average 0.01 distance away.\n",
      "point_idx: 98 has neighbours [ 88  89  90  91  92  93  94  95  96  97  98  99 100 101 102 103 104 105] on average 0.01 distance away.\n",
      "point_idx: 99 has neighbours [ 88  89  90  91  92  93  94  95  96  97  98  99 100 101 102 103 104 105] on average 0.01 distance away.\n"
     ]
    }
   ],
   "source": [
    "# Given all the point neighbourhoods, calculate whatever information you want from this.\n",
    "for point_idx, xy in enumerate(pcd_xy[0:100]):\n",
    "    print(f\"point_idx: {point_idx} has neighbours {I[lims[point_idx]:lims[point_idx+1]]} on average {np.mean(D[lims[point_idx]:lims[point_idx+1]]):.2f} distance away.\" )"
   ],
   "metadata": {
    "collapsed": false,
    "pycharm": {
     "name": "#%%\n"
    }
   }
  },
  {
   "cell_type": "code",
   "execution_count": null,
   "outputs": [],
   "source": [],
   "metadata": {
    "collapsed": false,
    "pycharm": {
     "name": "#%%\n"
    }
   }
  }
 ],
 "metadata": {
  "kernelspec": {
   "display_name": "Python 3",
   "language": "python",
   "name": "python3"
  },
  "language_info": {
   "codemirror_mode": {
    "name": "ipython",
    "version": 2
   },
   "file_extension": ".py",
   "mimetype": "text/x-python",
   "name": "python",
   "nbconvert_exporter": "python",
   "pygments_lexer": "ipython2",
   "version": "2.7.6"
  }
 },
 "nbformat": 4,
 "nbformat_minor": 0
}