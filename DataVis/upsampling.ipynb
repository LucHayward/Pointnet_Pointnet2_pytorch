{
 "cells": [
  {
   "cell_type": "code",
   "execution_count": null,
   "outputs": [],
   "source": [
    "import open3d as o3d\n",
    "import numpy as np\n",
    "from tqdm.notebook import tqdm"
   ],
   "metadata": {
    "collapsed": false,
    "ExecuteTime": {
     "start_time": "2023-04-17T09:44:55.118572Z",
     "end_time": "2023-04-17T09:44:55.861604Z"
    },
    "pycharm": {
     "is_executing": true
    }
   }
  },
  {
   "cell_type": "code",
   "execution_count": null,
   "outputs": [],
   "source": [
    "def find_closest_points(pcd_A, pcd_B):\n",
    "    # Build KNN search tree\n",
    "    search_tree = o3d.geometry.KDTreeFlann(pcd_A)\n",
    "\n",
    "    # Find closest points\n",
    "    closest_points = []\n",
    "    for point in tqdm(pcd_B.points):\n",
    "        _, idx, _ = search_tree.search_knn_vector_3d(point, 1)\n",
    "        closest_point = pcd_A.points[idx[0]]\n",
    "        closest_points.append(closest_point)\n",
    "\n",
    "    return np.array(closest_points)\n",
    "\n",
    "def find_closest_points_idxs(pcd_A, pcd_B):\n",
    "    search_tree = o3d.geometry.KDTreeFlann(pcd_A)\n",
    "\n",
    "    closest_points_indices = []\n",
    "    for point in tqdm(pcd_B.points):\n",
    "        _, idx, _ = search_tree.search_knn_vector_3d(point, 1)\n",
    "        closest_points_indices.append(idx[0])\n",
    "\n",
    "    return closest_points_indices"
   ],
   "metadata": {
    "collapsed": false,
    "ExecuteTime": {
     "start_time": "2023-04-17T09:44:55.862825Z",
     "end_time": "2023-04-17T09:44:55.866287Z"
    },
    "pycharm": {
     "is_executing": true
    }
   }
  },
  {
   "cell_type": "code",
   "execution_count": null,
   "outputs": [],
   "source": [
    "def calculate_projection_accuracy(pcd_A, pcd_B, closest_points_indices, labels_A, labels_B):\n",
    "    correct_labels = 0\n",
    "    total_points = len(pcd_B.points)\n",
    "\n",
    "    for i, idx in tqdm(enumerate(closest_points_indices)):\n",
    "        if labels_A[idx] == labels_B[i]:\n",
    "            correct_labels += 1\n",
    "\n",
    "    accuracy = correct_labels / total_points\n",
    "    return accuracy"
   ],
   "metadata": {
    "collapsed": false,
    "ExecuteTime": {
     "start_time": "2023-04-17T09:44:55.870100Z",
     "end_time": "2023-04-17T09:44:55.926971Z"
    },
    "pycharm": {
     "is_executing": true
    }
   }
  },
  {
   "cell_type": "code",
   "execution_count": null,
   "outputs": [],
   "source": [
    "# Load point clouds from file\n",
    "pcd_A_np = np.load(\"/home/luc/PycharmProjects/Pointnet_Pointnet2_pytorch/data/PatrickData/Bagni_Nerone/BagniNerone.npy_outliers\")\n",
    "pcd_B_np = np.load(\"//home/luc/PycharmProjects/Pointnet_Pointnet2_pytorch/data/PatrickData/Bagni_Nerone/BagniNerone.npy_full\")"
   ],
   "metadata": {
    "collapsed": false,
    "ExecuteTime": {
     "start_time": "2023-04-17T09:56:16.777331Z",
     "end_time": "2023-04-17T09:56:21.564114Z"
    },
    "pycharm": {
     "is_executing": true
    }
   }
  },
  {
   "cell_type": "code",
   "execution_count": null,
   "outputs": [],
   "source": [
    "pcd_A = o3d.geometry.PointCloud(o3d.utility.Vector3dVector(pcd_A_np[:,:3]))\n",
    "pcd_B = o3d.geometry.PointCloud(o3d.utility.Vector3dVector(pcd_B_np[:,:3]))\n",
    "\n",
    "# Find closest points indices\n",
    "closest_points_indices = find_closest_points_idxs(pcd_A, pcd_B)\n",
    "\n",
    "# Calculate label accuracy\n",
    "accuracy = calculate_projection_accuracy(pcd_A, pcd_B, closest_points_indices, pcd_A_np[:,-1], pcd_B_np[:,-1])\n",
    "\n",
    "print(f\"Label accuracy when mapping from pcd_B to pcd_A: {accuracy * 100:.2f}%\")"
   ],
   "metadata": {
    "collapsed": false,
    "ExecuteTime": {
     "start_time": "2023-04-17T09:44:55.913869Z",
     "end_time": "2023-04-17T09:48:17.426228Z"
    },
    "pycharm": {
     "is_executing": true
    }
   }
  },
  {
   "cell_type": "code",
   "execution_count": null,
   "outputs": [],
   "source": [
    "def visualize_incorrect_points(pcd_A, pcd_B, closest_points_indices, labels_A, labels_B):\n",
    "    incorrect_points = []\n",
    "\n",
    "    for i, idx in enumerate(closest_points_indices):\n",
    "        if labels_A[idx] != labels_B[i]:\n",
    "            incorrect_points.append(pcd_B.points[i])\n",
    "\n",
    "    incorrect_points_pcd = o3d.geometry.PointCloud()\n",
    "    incorrect_points_pcd.points = o3d.utility.Vector3dVector(incorrect_points)\n",
    "\n",
    "    # Set the color for incorrect points, for example red (R: 1, G: 0, B: 0)\n",
    "    incorrect_points_pcd.paint_uniform_color([1, 0, 0])\n",
    "\n",
    "    # Visualize both pcd_B and incorrect points\n",
    "    o3d.visualization.draw_geometries([pcd_B, incorrect_points_pcd], window_name='Incorrect Points Visualization')\n",
    "\n",
    "# Visualize incorrect points\n",
    "visualize_incorrect_points(pcd_A, pcd_B, closest_points_indices, pcd_A_np[:,-1], pcd_B_np[:,6])"
   ],
   "metadata": {
    "collapsed": false,
    "ExecuteTime": {
     "start_time": "2023-04-17T09:48:17.425819Z",
     "end_time": "2023-04-17T09:55:16.545094Z"
    },
    "pycharm": {
     "is_executing": true
    }
   }
  }
 ],
 "metadata": {
  "kernelspec": {
   "display_name": "Python 3",
   "language": "python",
   "name": "python3"
  },
  "language_info": {
   "codemirror_mode": {
    "name": "ipython",
    "version": 2
   },
   "file_extension": ".py",
   "mimetype": "text/x-python",
   "name": "python",
   "nbconvert_exporter": "python",
   "pygments_lexer": "ipython2",
   "version": "2.7.6"
  }
 },
 "nbformat": 4,
 "nbformat_minor": 0
}
