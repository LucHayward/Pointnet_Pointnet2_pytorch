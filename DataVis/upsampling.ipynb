{
 "cells": [
  {
   "cell_type": "code",
   "execution_count": 1,
   "outputs": [
    {
     "name": "stdout",
     "output_type": "stream",
     "text": [
      "Jupyter environment detected. Enabling Open3D WebVisualizer.\n",
      "[Open3D INFO] WebRTC GUI backend enabled.\n",
      "[Open3D INFO] WebRTCWindowSystem: HTTP handshake server disabled.\n"
     ]
    }
   ],
   "source": [
    "import open3d as o3d\n",
    "import numpy as np\n",
    "from tqdm.notebook import tqdm\n",
    "import pptk"
   ],
   "metadata": {
    "collapsed": false,
    "ExecuteTime": {
     "start_time": "2023-04-17T17:10:51.229409Z",
     "end_time": "2023-04-17T17:10:52.151094Z"
    }
   }
  },
  {
   "cell_type": "code",
   "execution_count": 2,
   "outputs": [],
   "source": [
    "def find_closest_points(pcd_A, pcd_B):\n",
    "    # Build KNN search tree\n",
    "    search_tree = o3d.geometry.KDTreeFlann(pcd_A)\n",
    "\n",
    "    # Find closest points\n",
    "    closest_points = []\n",
    "    for point in tqdm(pcd_B.points):\n",
    "        _, idx, _ = search_tree.search_knn_vector_3d(point, 1)\n",
    "        closest_point = pcd_A.points[idx[0]]\n",
    "        closest_points.append(closest_point)\n",
    "\n",
    "    return np.array(closest_points)\n",
    "\n",
    "def find_closest_points_idxs(pcd_A, pcd_B):\n",
    "    search_tree = o3d.geometry.KDTreeFlann(pcd_A)\n",
    "\n",
    "    closest_points_indices = []\n",
    "    for point in tqdm(pcd_B.points):\n",
    "        _, idx, _ = search_tree.search_knn_vector_3d(point, 1)\n",
    "        closest_points_indices.append(idx[0])\n",
    "\n",
    "    return closest_points_indices"
   ],
   "metadata": {
    "collapsed": false,
    "ExecuteTime": {
     "start_time": "2023-04-17T17:10:52.137365Z",
     "end_time": "2023-04-17T17:10:52.151278Z"
    }
   }
  },
  {
   "cell_type": "code",
   "execution_count": 3,
   "outputs": [],
   "source": [
    "def calculate_projection_accuracy(pcd_A, pcd_B, closest_points_indices, labels_A, labels_B):\n",
    "    correct_labels = 0\n",
    "    total_points = len(pcd_B.points)\n",
    "\n",
    "    for i, idx in tqdm(enumerate(closest_points_indices), total=len(closest_points_indices)):\n",
    "        if labels_A[idx] == labels_B[i]:\n",
    "            correct_labels += 1\n",
    "\n",
    "    accuracy = correct_labels / total_points\n",
    "    return accuracy"
   ],
   "metadata": {
    "collapsed": false,
    "ExecuteTime": {
     "start_time": "2023-04-17T17:10:52.141443Z",
     "end_time": "2023-04-17T17:10:52.151377Z"
    }
   }
  },
  {
   "cell_type": "code",
   "execution_count": 4,
   "outputs": [],
   "source": [
    "# Load point clouds from file\n",
    "pcd_A_np = np.load(\"/home/luc/PycharmProjects/Pointnet_Pointnet2_pytorch/data/PatrickData/Piazza/Piazza.npy\")\n",
    "pcd_B_np = np.load(\"/home/luc/PycharmProjects/Pointnet_Pointnet2_pytorch/data/PatrickData/Piazza/piazza.npy_full.npy\")\n",
    "labels_A = np.copy(pcd_A_np[:,-1])\n",
    "labels_B = np.copy(pcd_B_np[:,-1])"
   ],
   "metadata": {
    "collapsed": false,
    "ExecuteTime": {
     "start_time": "2023-04-17T17:10:52.181381Z",
     "end_time": "2023-04-17T17:10:54.030951Z"
    }
   }
  },
  {
   "cell_type": "code",
   "execution_count": 7,
   "outputs": [],
   "source": [
    "pcd_A = o3d.geometry.PointCloud(o3d.utility.Vector3dVector(pcd_A_np[:,:3]))\n",
    "pcd_B = o3d.geometry.PointCloud(o3d.utility.Vector3dVector(pcd_B_np[:,:3]))"
   ],
   "metadata": {
    "collapsed": false,
    "ExecuteTime": {
     "start_time": "2023-04-17T17:14:25.267658Z",
     "end_time": "2023-04-17T17:14:27.400224Z"
    }
   }
  },
  {
   "cell_type": "code",
   "execution_count": 8,
   "outputs": [],
   "source": [
    "del pcd_A_np, pcd_B_np"
   ],
   "metadata": {
    "collapsed": false,
    "ExecuteTime": {
     "start_time": "2023-04-17T17:14:30.113585Z",
     "end_time": "2023-04-17T17:14:30.127261Z"
    }
   }
  },
  {
   "cell_type": "code",
   "execution_count": 9,
   "outputs": [
    {
     "data": {
      "text/plain": "  0%|          | 0/55108783 [00:00<?, ?it/s]",
      "application/vnd.jupyter.widget-view+json": {
       "version_major": 2,
       "version_minor": 0,
       "model_id": "9f98a73066b6461587358cf01a04470c"
      }
     },
     "metadata": {},
     "output_type": "display_data"
    },
    {
     "data": {
      "text/plain": "  0%|          | 0/55108783 [00:00<?, ?it/s]",
      "application/vnd.jupyter.widget-view+json": {
       "version_major": 2,
       "version_minor": 0,
       "model_id": "fd91232072a34e7aa814e7810719d35b"
      }
     },
     "metadata": {},
     "output_type": "display_data"
    },
    {
     "name": "stdout",
     "output_type": "stream",
     "text": [
      "Label accuracy when mapping from pcd_B to pcd_A: 99.77%\n"
     ]
    }
   ],
   "source": [
    "# Find closest points indices\n",
    "closest_points_indices = find_closest_points_idxs(pcd_A, pcd_B)\n",
    "\n",
    "# Calculate label accuracy\n",
    "accuracy = calculate_projection_accuracy(pcd_A, pcd_B, closest_points_indices, labels_A, labels_B)\n",
    "\n",
    "print(f\"Label accuracy when mapping from pcd_B to pcd_A: {accuracy * 100:.2f}%\")"
   ],
   "metadata": {
    "collapsed": false,
    "ExecuteTime": {
     "start_time": "2023-04-17T17:14:34.350693Z",
     "end_time": "2023-04-17T17:20:34.361863Z"
    }
   }
  },
  {
   "cell_type": "code",
   "execution_count": 10,
   "outputs": [
    {
     "data": {
      "text/plain": "  0%|          | 0/55108783 [00:00<?, ?it/s]",
      "application/vnd.jupyter.widget-view+json": {
       "version_major": 2,
       "version_minor": 0,
       "model_id": "87dd5fc0d85e4683bc6a2197a55bb481"
      }
     },
     "metadata": {},
     "output_type": "display_data"
    }
   ],
   "source": [
    "def visualize_incorrect_points(pcd_A, pcd_B, closest_points_indices, labels_A, labels_B):\n",
    "    incorrect_points = []\n",
    "\n",
    "    for i, idx in tqdm(enumerate(closest_points_indices), total=len(closest_points_indices)):\n",
    "        if labels_A[idx] != labels_B[i]:\n",
    "            incorrect_points.append(pcd_B.points[i])\n",
    "\n",
    "    incorrect_points_pcd = o3d.geometry.PointCloud()\n",
    "    incorrect_points_pcd.points = o3d.utility.Vector3dVector(incorrect_points)\n",
    "\n",
    "    # Set the color for incorrect points, for example red (R: 1, G: 0, B: 0)\n",
    "    incorrect_points_pcd.paint_uniform_color([1, 0, 0])\n",
    "\n",
    "    # Visualize both pcd_B and incorrect points\n",
    "    o3d.visualization.draw_geometries([pcd_A, incorrect_points_pcd], window_name='Incorrect Points Visualization')\n",
    "\n",
    "# Visualize incorrect points\n",
    "visualize_incorrect_points(pcd_A, pcd_B, closest_points_indices, labels_A, labels_B)"
   ],
   "metadata": {
    "collapsed": false,
    "ExecuteTime": {
     "start_time": "2023-04-17T17:28:52.956524Z",
     "end_time": "2023-04-17T17:30:05.233527Z"
    }
   }
  },
  {
   "cell_type": "code",
   "execution_count": 11,
   "outputs": [],
   "source": [
    "labels_B/=255\n"
   ],
   "metadata": {
    "collapsed": false,
    "ExecuteTime": {
     "start_time": "2023-04-17T15:44:29.150523Z",
     "end_time": "2023-04-17T15:44:57.134090Z"
    }
   }
  },
  {
   "cell_type": "code",
   "execution_count": 14,
   "outputs": [
    {
     "data": {
      "text/plain": "0.0"
     },
     "execution_count": 14,
     "metadata": {},
     "output_type": "execute_result"
    }
   ],
   "source": [
    "max(labels_B)"
   ],
   "metadata": {
    "collapsed": false,
    "ExecuteTime": {
     "start_time": "2023-04-17T16:50:17.245890Z",
     "end_time": "2023-04-17T16:50:17.251115Z"
    }
   }
  }
 ],
 "metadata": {
  "kernelspec": {
   "display_name": "Python 3",
   "language": "python",
   "name": "python3"
  },
  "language_info": {
   "codemirror_mode": {
    "name": "ipython",
    "version": 2
   },
   "file_extension": ".py",
   "mimetype": "text/x-python",
   "name": "python",
   "nbconvert_exporter": "python",
   "pygments_lexer": "ipython2",
   "version": "2.7.6"
  }
 },
 "nbformat": 4,
 "nbformat_minor": 0
}
