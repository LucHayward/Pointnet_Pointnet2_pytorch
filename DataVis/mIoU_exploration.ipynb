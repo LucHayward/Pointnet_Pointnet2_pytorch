{
 "cells": [
  {
   "cell_type": "code",
   "execution_count": 1,
   "metadata": {},
   "outputs": [],
   "source": [
    "import itertools\n",
    "import matplotlib.pyplot as plt\n",
    "import numpy as np\n",
    "import itertools\n",
    "\n",
    "from ipywidgets import interactive\n",
    "import mplcursors\n",
    "from functools import lru_cache\n",
    "# %matplotlib notebook"
   ]
  },
  {
   "cell_type": "code",
   "execution_count": 2,
   "metadata": {},
   "outputs": [
    {
     "name": "stdout",
     "output_type": "stream",
     "text": [
      "tp, fp, tn, fn\n"
     ]
    }
   ],
   "source": [
    "# Define the calculate_iou() function\n",
    "def calculate_miou(tp, fp, tn, fn):\n",
    "    iou_pos = tp / (tp + fp + fn)\n",
    "    iou_neg = tn / (tn + fp + fn)\n",
    "    miou = (iou_pos + iou_neg) / 2\n",
    "    return miou\n",
    "\n",
    "def calculate_accuracy(TP,FP,TN,FN):\n",
    "    return (TP+TN)/(TP+TN+FP+FN)\n",
    "\n",
    "def calculate_mean_accuracy(TP,FP,TN,FN):\n",
    "    return (calculate_accuracy(TP,FP,TN,FN)+calculate_accuracy(TN, FN, TP, FP))/2\n",
    "\n",
    "# Define the generate_combinations() function\n",
    "@lru_cache(5, False)\n",
    "def generate_combinations(num_positives, num_negatives):\n",
    "    # Generate all possible combinations of TP, FP, TN, and FN\n",
    "    combinations = list(itertools.product(np.arange(0,max(num_positives,num_negatives)+1), repeat=4))\n",
    "    # Filter out invalid combinations\n",
    "    valid_combinations = []\n",
    "    for c in combinations:\n",
    "        if sum(c) == (num_positives+num_negatives) and max(c) <= max(num_positives,num_negatives):\n",
    "            valid_combinations.append(c)\n",
    "    return valid_combinations\n",
    "\n",
    "# Define the plot_iou() function\n",
    "def plot_iou(num_positives, num_negatives):\n",
    "    valid_combinations = generate_combinations(num_positives, num_negatives)\n",
    "    ious = []\n",
    "    for c in valid_combinations:\n",
    "        iou = calculate_miou(*c)\n",
    "        ious.append(iou)\n",
    "\n",
    "    # Plot the results as a bar chart\n",
    "    labels = [str(c) for c in valid_combinations]\n",
    "    x_pos = [i for i, _ in enumerate(labels)]\n",
    "    fig, ax = plt.subplots(figsize=(8, 6))\n",
    "    ax.bar(x_pos, ious, color='green')\n",
    "    ax.set_xlabel(\"Combination of TP, FP, TN, and FN\")\n",
    "    ax.set_ylabel(\"mIoU\")\n",
    "    ax.set_title(f\"mIoU for {num_positives} positive labels and {num_negatives} negative labels\")\n",
    "    ax.set_xticks(x_pos)\n",
    "    ax.set_xticklabels(labels, rotation='vertical')\n",
    "\n",
    "    # Add annotations to the plot\n",
    "    mplcursors.cursor(ax.bar(x_pos, ious), hover=True).connect(\n",
    "        \"add\", lambda sel: sel.annotation.set_text(f\"mIoU: {sel.target[1]:.3f}\"))\n",
    "\n",
    "    plt.show()\n",
    "\n",
    "num_positives, num_negatives = 45,55\n",
    "print(\"tp, fp, tn, fn\")\n",
    "# plot_iou(num_positives, num_negatives)"
   ]
  },
  {
   "cell_type": "code",
   "execution_count": null,
   "metadata": {},
   "outputs": [],
   "source": [
    "generate_combinations(num_positives, num_negatives)"
   ]
  },
  {
   "cell_type": "code",
   "execution_count": null,
   "metadata": {},
   "outputs": [],
   "source": [
    "# Define the find_iou_combination() function\n",
    "def find_iou_combination(mIoU, num_positives, num_negatives):\n",
    "    # Generate all valid combinations of TP, FP, TN, and FN\n",
    "    valid_combinations = generate_combinations(num_positives, num_negatives)\n",
    "\n",
    "    # Calculate the mIoU for each combination and find the closest matches\n",
    "    closest_matches = []\n",
    "    closest_diff = float('inf')\n",
    "    for c in valid_combinations:\n",
    "        iou = calculate_miou(*c)\n",
    "        diff = abs(iou - mIoU)\n",
    "        if diff < closest_diff:\n",
    "            closest_diff = diff\n",
    "            closest_matches = [(c, iou)]\n",
    "        elif diff == closest_diff:\n",
    "            closest_matches.append((c, iou))\n",
    "\n",
    "    return closest_matches\n",
    "\n",
    "\n",
    "# Call the find_iou_combination() function with mIoU=0.5, num_positives=5, and num_negatives=5\n",
    "mIoU = 0.3196\n",
    "result = find_iou_combination(mIoU, num_positives, num_negatives)\n",
    "\n",
    "print(\"tp fp tn fn\")\n",
    "for r in result: print(r)"
   ]
  },
  {
   "cell_type": "code",
   "execution_count": null,
   "outputs": [],
   "source": [
    "tp,fp,tn,fn = 4,96,0,0\n",
    "print(\"all pos\")\n",
    "print(calculate_miou(tp,fp,tn,fn))\n",
    "# print(calculate_mean_accuracy(tp,fp,tn,fn))\n",
    "print(\"all neg\")\n",
    "print(calculate_miou(fp,tp,fn,tn))\n",
    "# print(calculate_mean_accuracy(fp,tp,fn,tn))\n",
    "\n",
    "from sklearn.metrics import jaccard_score\n",
    "target = [1]*71 + [0]*29\n",
    "preds = [1]*100\n",
    "keepIoU, discardIoU = jaccard_score(target, preds, average=None)\n",
    "mIoU = jaccard_score(target, preds, average='macro')\n",
    "print(f\"keepIOU {keepIoU} discardIoU {discardIoU} miou {mIoU} \")"
   ],
   "metadata": {
    "collapsed": false
   }
  },
  {
   "cell_type": "code",
   "execution_count": null,
   "metadata": {},
   "outputs": [],
   "source": [
    "import numpy as np\n",
    "import matplotlib.pyplot as plt\n",
    "from mpl_toolkits.mplot3d import Axes3D\n",
    "%matplotlib notebook\n",
    "\n",
    "def get_tp_tn(num_positives, num_negatives):\n",
    "    valid_combinations = generate_combinations(num_positives, num_negatives)\n",
    "    TP = [t[0] for t in valid_combinations]\n",
    "    TN = [t[2] for t in valid_combinations]\n",
    "    MIOU = [calculate_miou(*t) for t in valid_combinations]\n",
    "    return np.array(TP),np.array(TN),np.array(MIOU)\n",
    "\n",
    "# Define the variables and the score\n",
    "x, y, z = get_tp_tn(num_positives,num_negatives)\n",
    "\n",
    "# Create a 3D figure and axis\n",
    "fig = plt.figure(figsize=(8, 6))\n",
    "ax = fig.add_subplot(111, projection='3d')\n",
    "\n",
    "# Add the points as a scatter plot\n",
    "ax.scatter(x, y, z, c=z, cmap='viridis')"
   ]
  },
  {
   "cell_type": "code",
   "execution_count": null,
   "metadata": {},
   "outputs": [],
   "source": [
    "from mpl_toolkits.mplot3d import Axes3D\n",
    "import matplotlib.pyplot as plt\n",
    "from matplotlib import cm\n",
    "import numpy as np\n",
    "\n",
    "fig = plt.figure()\n",
    "ax = Axes3D(fig)\n",
    "surf = ax.plot_trisurf(x, y, z, cmap=cm.jet, linewidth=0.1)\n",
    "ax.plot_trisurf([0,10,0,10],[0,0,10,10],[.5,.5,.5,.5], alpha=.9)\n",
    "fig.colorbar(surf, shrink=0.5, aspect=5)\n",
    "ax.set_xlabel('TP')\n",
    "ax.set_ylabel('TN')\n",
    "ax.set_zlabel('mIoU')\n",
    "# plt.savefig('teste.pdf')\n",
    "plt.show()"
   ]
  },
  {
   "cell_type": "code",
   "execution_count": null,
   "outputs": [],
   "source": [],
   "metadata": {
    "collapsed": false
   }
  }
 ],
 "metadata": {
  "kernelspec": {
   "display_name": "Python 3",
   "language": "python",
   "name": "python3"
  },
  "language_info": {
   "codemirror_mode": {
    "name": "ipython",
    "version": 3
   },
   "file_extension": ".py",
   "mimetype": "text/x-python",
   "name": "python",
   "nbconvert_exporter": "python",
   "pygments_lexer": "ipython3",
   "version": "3.6.8"
  }
 },
 "nbformat": 4,
 "nbformat_minor": 1
}
