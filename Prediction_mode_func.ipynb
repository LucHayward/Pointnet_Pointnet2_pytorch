{
 "cells": [
  {
   "cell_type": "code",
   "execution_count": 65,
   "outputs": [],
   "source": [
    "import numpy as np\n",
    "from scipy.stats import mode"
   ],
   "metadata": {
    "collapsed": false,
    "pycharm": {
     "name": "#%%\n"
    }
   }
  },
  {
   "cell_type": "code",
   "execution_count": 66,
   "outputs": [],
   "source": [
    "def mode1d(a, out=None):\n",
    "    size = a.size\n",
    "    count = np.sum(a)\n",
    "    count = np.left_shift(count,1)\n",
    "    if out is not None:\n",
    "        out = count // size >= 1\n",
    "    else: return count // size >= 1"
   ],
   "metadata": {
    "collapsed": false,
    "pycharm": {
     "name": "#%%\n"
    }
   }
  },
  {
   "cell_type": "code",
   "execution_count": 111,
   "outputs": [],
   "source": [
    "def modeNew(a):\n",
    "    out = np.empty(a.shape[1])\n",
    "    for i in range(len(out)):\n",
    "        # out[i] = mode1d(a[:,i])\n",
    "        size = a[:,i].size\n",
    "        count = np.sum(a[:,i])\n",
    "        count = np.left_shift(count, 1)\n",
    "        out[i] = count // size >= 1\n",
    "    return out"
   ],
   "metadata": {
    "collapsed": false,
    "pycharm": {
     "name": "#%%\n"
    }
   }
  },
  {
   "cell_type": "code",
   "execution_count": 112,
   "outputs": [],
   "source": [
    "def modeNew_(a):\n",
    "    out = np.empty(a.shape[0])\n",
    "    for i in range(len(out)):\n",
    "        # out[i] = mode1d(a[:,i])\n",
    "        size = a[i].size\n",
    "        count = np.sum(a[i])\n",
    "        count = np.left_shift(count, 1)\n",
    "        out[i] = count // size >= 1\n",
    "    return out"
   ],
   "metadata": {
    "collapsed": false,
    "pycharm": {
     "name": "#%%\n"
    }
   }
  },
  {
   "cell_type": "code",
   "execution_count": 113,
   "outputs": [],
   "source": [
    "def modeNew2(a):\n",
    "    return np.apply_along_axis(mode1d, 0, a).astype(np.int8)"
   ],
   "metadata": {
    "collapsed": false,
    "pycharm": {
     "name": "#%%\n"
    }
   }
  },
  {
   "cell_type": "code",
   "execution_count": 114,
   "outputs": [],
   "source": [
    "def modeNew3(a, out=None):\n",
    "    r=False\n",
    "    if out is None:\n",
    "        out = np.empty(a.shape[1])\n",
    "        r = True\n",
    "    for i in range(len(out)):\n",
    "        # out[i] = mode1d(a[:,i])\n",
    "        size = a[:,i].size\n",
    "        count = np.sum(a[:,i])\n",
    "        count = np.left_shift(count, 1)\n",
    "        out[i] = count // size >= 1\n",
    "    if r: return out"
   ],
   "metadata": {
    "collapsed": false,
    "pycharm": {
     "name": "#%%\n"
    }
   }
  },
  {
   "cell_type": "code",
   "execution_count": 115,
   "outputs": [],
   "source": [
    "size = (3,65000)\n",
    "a = np.random.randint(0,2,size)\n",
    "out = np.empty(a.shape[1])"
   ],
   "metadata": {
    "collapsed": false,
    "pycharm": {
     "name": "#%%\n"
    }
   }
  },
  {
   "cell_type": "code",
   "execution_count": 116,
   "outputs": [
    {
     "name": "stdout",
     "output_type": "stream",
     "text": [
      "True\n",
      "True\n",
      "True\n",
      "True\n"
     ]
    }
   ],
   "source": [
    "aout = mode(a)[0].squeeze()\n",
    "bout = modeNew(a)\n",
    "cout = modeNew2(a)\n",
    "modeNew3(a, out)\n",
    "dout = modeNew3(a)\n",
    "\n",
    "print(np.all(aout==bout))\n",
    "print(np.all(aout==cout))\n",
    "print(np.all(aout==out))\n",
    "print(np.all(aout==dout))"
   ],
   "metadata": {
    "collapsed": false,
    "pycharm": {
     "name": "#%%\n"
    }
   }
  },
  {
   "cell_type": "markdown",
   "source": [
    "**It's actually slower to pass in the output array than to create it inside the function definition.**"
   ],
   "metadata": {
    "collapsed": false,
    "pycharm": {
     "name": "#%% md\n"
    }
   }
  },
  {
   "cell_type": "code",
   "execution_count": 80,
   "outputs": [
    {
     "data": {
      "text/plain": "array([1, 0, 0, ..., 0, 0, 1])"
     },
     "execution_count": 80,
     "metadata": {},
     "output_type": "execute_result"
    }
   ],
   "source": [
    "t = a.T\n",
    "mode(t, axis=1)[0].squeeze()"
   ],
   "metadata": {
    "collapsed": false,
    "pycharm": {
     "name": "#%%\n"
    }
   }
  },
  {
   "cell_type": "code",
   "execution_count": 123,
   "outputs": [
    {
     "name": "stdout",
     "output_type": "stream",
     "text": [
      "Standard scipy mode:\t\t\t\t 16.24838224501582\n",
      "Binary mode, out defined in function: 5.125384783983463\n",
      "Standard scipy mode transposed:\t\t\t\t 16.581634614994982\n",
      "Binary mode, out defined in function transposed: 5.12094939101371\n"
     ]
    }
   ],
   "source": [
    "repeats = 10\n",
    "from timeit import timeit\n",
    "print(\"Standard scipy mode:\\t\\t\\t\\t\", timeit(lambda: mode(a)[0].squeeze(), number=repeats))\n",
    "print(\"Binary mode, out defined in function:\", timeit(lambda: modeNew(a), number=repeats))\n",
    "print(\"Standard scipy mode transposed:\\t\\t\\t\\t\", timeit(lambda: mode(a.T, axis=1)[0].squeeze(), number=repeats))\n",
    "print(\"Binary mode, out defined in function transposed:\", timeit(lambda: modeNew_(a.T), number=repeats))\n",
    "# print(\"Mode1d along axis:\\t\\t\\t\\t\\t\",timeit(lambda: modeNew2(a), number=repeats))\n",
    "# print(\"Binary mode, out passed in:\\t\\t\\t\",timeit(lambda: modeNew3(a, out), number=repeats))\n",
    "# print(\"Binary mode, out not passed in:\\t\\t\",timeit(lambda: modeNew3(a), number=repeats))"
   ],
   "metadata": {
    "collapsed": false,
    "pycharm": {
     "name": "#%%\n"
    }
   }
  },
  {
   "cell_type": "code",
   "execution_count": 124,
   "outputs": [
    {
     "data": {
      "text/plain": "array([ True,  True,  True, ...,  True,  True,  True])"
     },
     "execution_count": 124,
     "metadata": {},
     "output_type": "execute_result"
    }
   ],
   "source": [
    "x=mode(a.T, axis=1)[0].squeeze()\n",
    "xx=modeNew_(a.T)\n",
    "x==xx"
   ],
   "metadata": {
    "collapsed": false,
    "pycharm": {
     "name": "#%%\n"
    }
   }
  },
  {
   "cell_type": "code",
   "execution_count": 122,
   "outputs": [
    {
     "name": "stdout",
     "output_type": "stream",
     "text": [
      "Standard scipy mode:\t\t\t\t 16.02125605600304\n",
      "Binary mode, out defined in function: 5.080904071015539\n"
     ]
    }
   ],
   "source": [
    "size = (65000,3)\n",
    "aa = np.random.randint(0,2,size)\n",
    "\n",
    "maa = mode(aa, axis=1)[0].squeeze()\n",
    "mnaa = modeNew_(aa)\n",
    "\n",
    "print(\"Standard scipy mode:\\t\\t\\t\\t\", timeit(lambda: mode(aa, axis=1)[0].squeeze(), number=repeats))\n",
    "print(\"Binary mode, out defined in function:\", timeit(lambda: modeNew_(aa), number=repeats))"
   ],
   "metadata": {
    "collapsed": false,
    "pycharm": {
     "name": "#%%\n"
    }
   }
  },
  {
   "cell_type": "markdown",
   "source": [],
   "metadata": {
    "collapsed": false,
    "pycharm": {
     "name": "#%% md\n"
    }
   }
  }
 ],
 "metadata": {
  "kernelspec": {
   "display_name": "Python 3",
   "language": "python",
   "name": "python3"
  },
  "language_info": {
   "codemirror_mode": {
    "name": "ipython",
    "version": 2
   },
   "file_extension": ".py",
   "mimetype": "text/x-python",
   "name": "python",
   "nbconvert_exporter": "python",
   "pygments_lexer": "ipython2",
   "version": "2.7.6"
  }
 },
 "nbformat": 4,
 "nbformat_minor": 0
}