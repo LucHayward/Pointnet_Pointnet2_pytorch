{
 "cells": [
  {
   "cell_type": "code",
   "execution_count": 73,
   "outputs": [],
   "source": [
    "import numpy as np\n",
    "from scipy.stats import mode"
   ],
   "metadata": {
    "collapsed": false,
    "pycharm": {
     "name": "#%%\n"
    }
   }
  },
  {
   "cell_type": "code",
   "execution_count": 74,
   "outputs": [],
   "source": [
    "def mode1d(a, out=None):\n",
    "    size = a.size\n",
    "    count = np.sum(a)\n",
    "    count = np.left_shift(count,1)\n",
    "    if out is not None:\n",
    "        out = count // size >= 1\n",
    "    else: return count // size >= 1"
   ],
   "metadata": {
    "collapsed": false,
    "pycharm": {
     "name": "#%%\n"
    }
   }
  },
  {
   "cell_type": "code",
   "execution_count": 75,
   "outputs": [],
   "source": [
    "def modeNew(a):\n",
    "    out = np.empty(a.shape[1])\n",
    "    for i in range(len(out)):\n",
    "        # out[i] = mode1d(a[:,i])\n",
    "        size = a[:,i].size\n",
    "        count = np.sum(a[:,i])\n",
    "        count = np.left_shift(count, 1)\n",
    "        out[i] = count // size >= 1\n",
    "    return out"
   ],
   "metadata": {
    "collapsed": false,
    "pycharm": {
     "name": "#%%\n"
    }
   }
  },
  {
   "cell_type": "code",
   "execution_count": 76,
   "outputs": [],
   "source": [
    "def modeNew2(a):\n",
    "    return np.apply_along_axis(mode1d, 0, a).astype(np.int8)"
   ],
   "metadata": {
    "collapsed": false,
    "pycharm": {
     "name": "#%%\n"
    }
   }
  },
  {
   "cell_type": "code",
   "execution_count": 77,
   "outputs": [],
   "source": [
    "def modeNew3(a, out=None):\n",
    "    r=False\n",
    "    if out is None:\n",
    "        out = np.empty(a.shape[1])\n",
    "        r = True\n",
    "    for i in range(len(out)):\n",
    "        # out[i] = mode1d(a[:,i])\n",
    "        size = a[:,i].size\n",
    "        count = np.sum(a[:,i])\n",
    "        count = np.left_shift(count, 1)\n",
    "        out[i] = count // size >= 1\n",
    "    if r: return out"
   ],
   "metadata": {
    "collapsed": false,
    "pycharm": {
     "name": "#%%\n"
    }
   }
  },
  {
   "cell_type": "code",
   "execution_count": 78,
   "outputs": [],
   "source": [
    "size = (3,6500)\n",
    "a = np.random.randint(0,2,size)\n",
    "out = np.empty(a.shape[1])"
   ],
   "metadata": {
    "collapsed": false,
    "pycharm": {
     "name": "#%%\n"
    }
   }
  },
  {
   "cell_type": "code",
   "execution_count": 79,
   "outputs": [
    {
     "name": "stdout",
     "output_type": "stream",
     "text": [
      "True\n",
      "True\n",
      "True\n",
      "True\n"
     ]
    }
   ],
   "source": [
    "aout = mode(a)[0]\n",
    "bout = modeNew(a)\n",
    "cout = modeNew2(a)\n",
    "modeNew3(a, out)\n",
    "dout = modeNew3(a)\n",
    "\n",
    "print(np.all(aout==bout))\n",
    "print(np.all(aout==cout))\n",
    "print(np.all(aout==out))\n",
    "print(np.all(aout==dout))"
   ],
   "metadata": {
    "collapsed": false,
    "pycharm": {
     "name": "#%%\n"
    }
   }
  },
  {
   "cell_type": "markdown",
   "source": [
    "**It's actually slower to pass in the output array than to create it inside the function definition.**"
   ],
   "metadata": {
    "collapsed": false,
    "pycharm": {
     "name": "#%% md\n"
    }
   }
  },
  {
   "cell_type": "code",
   "execution_count": 80,
   "outputs": [
    {
     "name": "stdout",
     "output_type": "stream",
     "text": [
      "Standard scipy mode:\t\t\t\t 149.734796241999\n",
      "Binary mode, out defined in function: 45.768385445000604\n",
      "Mode1d along axis:\t\t\t\t\t 59.59347543700278\n",
      "Binary mode, out passed in:\t\t\t 45.951415904000896\n",
      "Binary mode, out not passed in:\t\t 46.67263186800119\n"
     ]
    }
   ],
   "source": [
    "repeats = 1000\n",
    "from timeit import timeit\n",
    "print(\"Standard scipy mode:\\t\\t\\t\\t\", timeit(lambda: mode(a), number=repeats))\n",
    "print(\"Binary mode, out defined in function:\", timeit(lambda: modeNew(a), number=repeats))\n",
    "print(\"Mode1d along axis:\\t\\t\\t\\t\\t\",timeit(lambda: modeNew2(a), number=repeats))\n",
    "print(\"Binary mode, out passed in:\\t\\t\\t\",timeit(lambda: modeNew3(a, out), number=repeats))\n",
    "print(\"Binary mode, out not passed in:\\t\\t\",timeit(lambda: modeNew3(a), number=repeats))"
   ],
   "metadata": {
    "collapsed": false,
    "pycharm": {
     "name": "#%%\n"
    }
   }
  }
 ],
 "metadata": {
  "kernelspec": {
   "display_name": "Python 3",
   "language": "python",
   "name": "python3"
  },
  "language_info": {
   "codemirror_mode": {
    "name": "ipython",
    "version": 2
   },
   "file_extension": ".py",
   "mimetype": "text/x-python",
   "name": "python",
   "nbconvert_exporter": "python",
   "pygments_lexer": "ipython2",
   "version": "2.7.6"
  }
 },
 "nbformat": 4,
 "nbformat_minor": 0
}