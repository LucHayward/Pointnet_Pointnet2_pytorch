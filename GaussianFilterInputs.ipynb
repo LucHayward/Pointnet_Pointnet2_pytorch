{
 "cells": [
  {
   "cell_type": "markdown",
   "metadata": {
    "pycharm": {
     "name": "#%% md\n"
    }
   },
   "source": [
    "# Gaussian Filter\n",
    "Want to explore using a Gaussian filter over the input before feeding it to the network. This notebook just needs to demonstrate the effect of a gaussian filter on a small section of data.\n",
    "\n",
    "Guasian filter with `sigma=0.2` has a mild smoothing effect on the noisy regions whilst mainintaing mostly the same geometry in the higher density regions. The optimal intuitively seems to be around `sigma=0.2-0.4` before a noticeable loss of detail sets in.\n",
    "\n",
    "Below we visualise `sigma=[0, 0.2,.3, 0.4, 0.5, .6, .7 ]`:\n",
    "![Visualisation comaparisons](GuassianFilter_Testing.png)\n",
    "\n",
    "\n",
    "## 1. Load data using standard dataloaders"
   ]
  },
  {
   "cell_type": "code",
   "execution_count": 1,
   "metadata": {
    "pycharm": {
     "name": "#%%\n"
    }
   },
   "outputs": [
    {
     "name": "stderr",
     "output_type": "stream",
     "text": [
      "  0%|          | 0/8 [00:00<?, ?it/s]"
     ]
    },
    {
     "name": "stdout",
     "output_type": "stream",
     "text": [
      "start loading training data ...\n"
     ]
    },
    {
     "name": "stderr",
     "output_type": "stream",
     "text": [
      "100%|██████████| 8/8 [00:01<00:00,  4.71it/s]"
     ]
    },
    {
     "name": "stdout",
     "output_type": "stream",
     "text": [
      "Labelweights=[1.        1.3157682]\n",
      "Totally 9572 samples in train set.\n"
     ]
    },
    {
     "name": "stderr",
     "output_type": "stream",
     "text": [
      "\n"
     ]
    }
   ],
   "source": [
    "from data_utils.S3DISDataLoader import S3DISDataset\n",
    "import data_utils.MastersDataLoader as MastersDataLoader\n",
    "import numpy as np\n",
    "import torch\n",
    "import time\n",
    "\n",
    "from types import SimpleNamespace\n",
    "\n",
    "root = 'data/s3dis/songomnara'\n",
    "NUM_POINT = 2048\n",
    "NUM_CLASSES = 2\n",
    "BATCH_SIZE = 1\n",
    "args = {'test_area': 2, 'block_size': 1,\n",
    "        'test_sample_rate': 1, 'shuffle_training_data': True}\n",
    "args = SimpleNamespace(**args)\n",
    "\n",
    "print(\"start loading training data ...\")\n",
    "TRAIN_DATASET = S3DISDataset(split='train', data_root=root, num_point=NUM_POINT, test_area=args.test_area,\n",
    "                             block_size=args.block_size, sample_rate=1.0, transform=None, num_classes=NUM_CLASSES)\n",
    "trainDataLoader = torch.utils.data.DataLoader(TRAIN_DATASET, batch_size=BATCH_SIZE,\n",
    "                                              shuffle=args.shuffle_training_data, num_workers=0,\n",
    "                                              pin_memory=True, drop_last=True,\n",
    "                                              worker_init_fn=lambda x: np.random.seed(x + int(time.time())))"
   ]
  },
  {
   "cell_type": "code",
   "execution_count": 2,
   "metadata": {
    "pycharm": {
     "name": "#%%\n"
    }
   },
   "outputs": [],
   "source": [
    "data_iter = iter(trainDataLoader)\n",
    "points, target, room_idx = next(data_iter)  # points (1,NUM_POINTxbatch_size,9), target(1,NUM_POINTxbatch_size)"
   ]
  },
  {
   "cell_type": "markdown",
   "metadata": {
    "pycharm": {
     "name": "#%% md\n"
    }
   },
   "source": [
    "## 2. Define the filter"
   ]
  },
  {
   "cell_type": "code",
   "execution_count": 3,
   "metadata": {
    "pycharm": {
     "name": "#%%\n"
    }
   },
   "outputs": [],
   "source": [
    "def gaussian_filter(points, sigma=1):\n",
    "    \"\"\"Applies a gausssian filter over a set of 3D points\n",
    "    \"\"\"\n",
    "    from scipy.ndimage import gaussian_filter\n",
    "    points = gaussian_filter(points, sigma=sigma)\n",
    "    \n",
    "    return points"
   ]
  },
  {
   "cell_type": "markdown",
   "metadata": {
    "pycharm": {
     "name": "#%% md\n"
    }
   },
   "source": [
    "## 3. Visualise"
   ]
  },
  {
   "cell_type": "code",
   "execution_count": 4,
   "metadata": {
    "pycharm": {
     "name": "#%%\n"
    }
   },
   "outputs": [
    {
     "name": "stdout",
     "output_type": "stream",
     "text": [
      "Jupyter environment detected. Enabling Open3D WebVisualizer.\n",
      "[Open3D INFO] WebRTC GUI backend enabled.\n",
      "[Open3D INFO] WebRTCWindowSystem: HTTP handshake server disabled.\n"
     ]
    },
    {
     "name": "stderr",
     "output_type": "stream",
     "text": [
      "INFO - 2021-11-19 14:58:15,311 - utils - NumExpr defaulting to 4 threads.\n"
     ]
    },
    {
     "name": "stdout",
     "output_type": "stream",
     "text": [
      "Show initial points\n"
     ]
    }
   ],
   "source": [
    "import open3d\n",
    "from Visualisation_utils import convert_class_to_turborgb255\n",
    "\n",
    "\n",
    "print(\"Show initial points\")\n",
    "pcd = open3d.geometry.PointCloud()\n",
    "pcd.points = open3d.utility.Vector3dVector(points[0,:,:3])\n",
    "pcd.colors = open3d.utility.Vector3dVector(np.array([convert_class_to_turborgb255(i, 1) for i in target[0,:]])/255)\n",
    "# pcd.colors = open3d.utility.Vector3dVector(points[0,:,3:6])\n",
    "# pcd.colors = open3d.utility.Vector3dVector(convert_class_to_turborgb255)\n"
   ]
  },
  {
   "cell_type": "code",
   "execution_count": 5,
   "metadata": {
    "pycharm": {
     "name": "#%%\n"
    }
   },
   "outputs": [],
   "source": [
    "open3d.visualization.draw_geometries([pcd])"
   ]
  },
  {
   "cell_type": "code",
   "execution_count": 6,
   "metadata": {
    "pycharm": {
     "name": "#%%\n"
    }
   },
   "outputs": [
    {
     "name": "stdout",
     "output_type": "stream",
     "text": [
      "Apply gaussian filter over the inputs\n"
     ]
    }
   ],
   "source": [
    "print(\"Apply gaussian filter over the inputs\")\n",
    "filtered_points = gaussian_filter(points[0,:,:3])\n",
    "\n",
    "pcd_filtered = open3d.geometry.PointCloud()\n",
    "pcd_filtered.points = open3d.utility.Vector3dVector(filtered_points[:,:3]+np.array([3,0,0]))\n",
    "pcd_filtered.colors = open3d.utility.Vector3dVector(np.array([convert_class_to_turborgb255(i, 1) for i in target[0,:]])/255)\n",
    "# pcd.colors = open3d.utility.Vector3dVector(convert_class_to_turborgb255)"
   ]
  },
  {
   "cell_type": "code",
   "execution_count": 7,
   "metadata": {
    "pycharm": {
     "name": "#%%\n"
    }
   },
   "outputs": [],
   "source": [
    "open3d.visualization.draw_geometries([pcd_filtered, pcd])"
   ]
  },
  {
   "cell_type": "markdown",
   "metadata": {
    "pycharm": {
     "name": "#%% md\n"
    }
   },
   "source": [
    "## Visualise the smoothing effect"
   ]
  },
  {
   "cell_type": "code",
   "execution_count": 8,
   "metadata": {
    "pycharm": {
     "name": "#%%\n"
    }
   },
   "outputs": [],
   "source": [
    "pcds = []\n",
    "for i, sigma in enumerate([0, 0.1, 0.2, 0.4, 0.5]):\n",
    "    pcds.append(open3d.geometry.PointCloud())\n",
    "    pcds[-1].points = open3d.utility.Vector3dVector(\n",
    "        gaussian_filter(points[0, :, :3], sigma)[:, :3]+np.array([3*i, 0, 0]))\n",
    "    pcds[-1].colors = open3d.utility.Vector3dVector(\n",
    "        np.array([convert_class_to_turborgb255(i, 1) for i in target[0, :]])/255)\n",
    "\n",
    "open3d.visualization.draw_geometries(pcds)\n"
   ]
  },
  {
   "cell_type": "markdown",
   "metadata": {
    "pycharm": {
     "name": "#%% md\n"
    }
   },
   "source": [
    "## Visualising the smoothing effect with comparison to the original"
   ]
  },
  {
   "cell_type": "code",
   "execution_count": 9,
   "metadata": {
    "pycharm": {
     "name": "#%%\n"
    }
   },
   "outputs": [],
   "source": [
    "pcds = []\n",
    "for i, sigma in enumerate([0, 0.2,.3, 0.4, 0.5, .6, .7 ]):\n",
    "    pcds.append(open3d.geometry.PointCloud())\n",
    "    pcds[-1].points = open3d.utility.Vector3dVector(\n",
    "        np.vstack((np.vstack((gaussian_filter(points[0, :, :3], sigma)[:, :3], np.asarray(pcd.points)))+np.array([3*i, 0, 0]), gaussian_filter(points[0, :, :3], sigma)[:, :3]+np.array([3*i, 0,-7]))))\n",
    "    pcds[-1].colors = open3d.utility.Vector3dVector(\n",
    "        np.vstack((np.array([convert_class_to_turborgb255(i, 1) for i in target[0, :]])/255, np.array([convert_class_to_turborgb255(i, 1) for i in target[0, :]])/255*2, np.array([convert_class_to_turborgb255(i, 1) for i in target[0, :]])/255)))\n",
    "\n",
    "open3d.visualization.draw_geometries(pcds)\n"
   ]
  }
 ],
 "metadata": {
  "interpreter": {
   "hash": "a2eaba42d29a280ba64e1fd1d620a9d7d92fed1efadd6147bd608a3b99f369c9"
  },
  "kernelspec": {
   "display_name": "Python 3.7.10 64-bit ('Pointnet_Pointnet2_pytorch': conda)",
   "language": "python",
   "name": "python3"
  },
  "language_info": {
   "codemirror_mode": {
    "name": "ipython",
    "version": 3
   },
   "file_extension": ".py",
   "mimetype": "text/x-python",
   "name": "python",
   "nbconvert_exporter": "python",
   "pygments_lexer": "ipython3",
   "version": "3.7.10"
  },
  "orig_nbformat": 4
 },
 "nbformat": 4,
 "nbformat_minor": 2
}