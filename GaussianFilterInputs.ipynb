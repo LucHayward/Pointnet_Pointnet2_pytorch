{
 "cells": [
  {
   "cell_type": "markdown",
   "metadata": {},
   "source": [
    "# Gaussian Filter\n",
    "Want to explore using a Gaussian filter over the input before feeding it to the network. This notebook just needs to demonstrate the effect of a gaussian filter on a small section of data.\n",
    "\n",
    "## 1. Load data using standard dataloaders"
   ]
  },
  {
   "cell_type": "code",
   "execution_count": null,
   "metadata": {},
   "outputs": [],
   "source": [
    "from data_utils.S3DISDataLoader import S3DISDataset\n",
    "import data_utils.MastersDataLoader as MastersDataLoader\n",
    "import numpy as np\n",
    "import torch\n",
    "import time\n",
    "\n",
    "from types import SimpleNamespace\n",
    "\n",
    "root = 'data/s3dis/songomnara'\n",
    "NUM_POINT = 2048\n",
    "NUM_CLASSES = 2\n",
    "BATCH_SIZE = 16\n",
    "args = {'test_area': 2, 'block_size': 1,\n",
    "        'test_sample_rate': 1, 'shuffle_training_data': True}\n",
    "args = SimpleNamespace(**args)\n",
    "\n",
    "print(\"start loading training data ...\")\n",
    "TRAIN_DATASET = S3DISDataset(split='train', data_root=root, num_point=NUM_POINT, test_area=args.test_area,\n",
    "                             block_size=args.block_size, sample_rate=1.0, transform=None, num_classes=NUM_CLASSES)\n",
    "trainDataLoader = torch.utils.data.DataLoader(TRAIN_DATASET, batch_size=BATCH_SIZE,\n",
    "                                              shuffle=args.shuffle_training_data, num_workers=4,\n",
    "                                              pin_memory=True, drop_last=True,\n",
    "                                              worker_init_fn=lambda x: np.random.seed(x + int(time.time())))"
   ]
  },
  {
   "cell_type": "markdown",
   "metadata": {},
   "source": [
    "## 2. Define the filter"
   ]
  },
  {
   "cell_type": "code",
   "execution_count": null,
   "metadata": {},
   "outputs": [],
   "source": [
    "def gaussian_filter(points):\n",
    "    \"\"\"Applies a gausssian filter over a set of 3D points\n",
    "    \"\"\"\n",
    "    \n",
    "    print(\"Not yet implemented\")\n",
    "    \n",
    "    return points"
   ]
  },
  {
   "cell_type": "markdown",
   "metadata": {},
   "source": [
    "## 3. Visualise"
   ]
  },
  {
   "cell_type": "code",
   "execution_count": null,
   "metadata": {},
   "outputs": [],
   "source": [
    "import pptk\n",
    "import open3d\n",
    "\n",
    "data_iter = iter(trainDataLoader)\n",
    "points, target, room_idx = next(iter)\n",
    "\n",
    "print(\"Show initial points\")\n",
    "viewer = pptk.viewer(points, target)\n",
    "\n",
    "print(\"Apply gaussian filter over the inputs\")\n",
    "g_points = gaussian_filter(points)"
   ]
  },
  {
   "cell_type": "code",
   "execution_count": 5,
   "metadata": {},
   "outputs": [],
   "source": [
    "import pptk\n",
    "import open3d\n",
    "import torch\n",
    "import numpy as np\n",
    "\n",
    "from numpy.random import default_rng\n",
    "rng = default_rng()\n",
    "vals = rng.standard_normal(10)\n",
    "points = rng.random((1000,3))\n",
    "# points = np.random.rand(1000,3)"
   ]
  },
  {
   "cell_type": "code",
   "execution_count": 13,
   "metadata": {},
   "outputs": [
    {
     "ename": "RuntimeError",
     "evalue": "",
     "output_type": "error",
     "traceback": [
      "\u001b[0;31m---------------------------------------------------------------------------\u001b[0m",
      "\u001b[0;31mRuntimeError\u001b[0m                              Traceback (most recent call last)",
      "\u001b[0;32m/tmp/ipykernel_623922/274604074.py\u001b[0m in \u001b[0;36m<module>\u001b[0;34m\u001b[0m\n\u001b[1;32m      1\u001b[0m \u001b[0mpcd\u001b[0m \u001b[0;34m=\u001b[0m \u001b[0mopen3d\u001b[0m\u001b[0;34m.\u001b[0m\u001b[0mgeometry\u001b[0m\u001b[0;34m.\u001b[0m\u001b[0mPointCloud\u001b[0m\u001b[0;34m(\u001b[0m\u001b[0;34m)\u001b[0m\u001b[0;34m\u001b[0m\u001b[0;34m\u001b[0m\u001b[0m\n\u001b[0;32m----> 2\u001b[0;31m \u001b[0mpcd\u001b[0m\u001b[0;34m.\u001b[0m\u001b[0mpoints\u001b[0m \u001b[0;34m=\u001b[0m \u001b[0mopen3d\u001b[0m\u001b[0;34m.\u001b[0m\u001b[0mutility\u001b[0m\u001b[0;34m.\u001b[0m\u001b[0mVector3dVector\u001b[0m\u001b[0;34m(\u001b[0m\u001b[0mpoints\u001b[0m\u001b[0;34m)\u001b[0m\u001b[0;34m\u001b[0m\u001b[0;34m\u001b[0m\u001b[0m\n\u001b[0m\u001b[1;32m      3\u001b[0m \u001b[0mopen3d\u001b[0m\u001b[0;34m.\u001b[0m\u001b[0mvisualization\u001b[0m\u001b[0;34m.\u001b[0m\u001b[0mdraw_geometries\u001b[0m\u001b[0;34m(\u001b[0m\u001b[0;34m[\u001b[0m\u001b[0mpcd\u001b[0m\u001b[0;34m]\u001b[0m\u001b[0;34m)\u001b[0m\u001b[0;34m\u001b[0m\u001b[0;34m\u001b[0m\u001b[0m\n",
      "\u001b[0;31mRuntimeError\u001b[0m: "
     ]
    }
   ],
   "source": [
    "pcd = open3d.geometry.PointCloud()\n",
    "pcd.points = open3d.utility.Vector3dVector(points)\n",
    "open3d.visualization.draw_geometries([pcd])"
   ]
  }
 ],
 "metadata": {
  "interpreter": {
   "hash": "a2eaba42d29a280ba64e1fd1d620a9d7d92fed1efadd6147bd608a3b99f369c9"
  },
  "kernelspec": {
   "display_name": "Python 3.7.10 64-bit ('Pointnet_Pointnet2_pytorch': conda)",
   "language": "python",
   "name": "python3"
  },
  "language_info": {
   "codemirror_mode": {
    "name": "ipython",
    "version": 3
   },
   "file_extension": ".py",
   "mimetype": "text/x-python",
   "name": "python",
   "nbconvert_exporter": "python",
   "pygments_lexer": "ipython3",
   "version": "3.7.10"
  },
  "orig_nbformat": 4
 },
 "nbformat": 4,
 "nbformat_minor": 2
}
