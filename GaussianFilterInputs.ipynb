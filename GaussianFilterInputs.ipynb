{
 "cells": [
  {
   "cell_type": "markdown",
   "metadata": {},
   "source": [
    "# Gaussian Filter\n",
    "Want to explore using a Gaussian filter over the input before feeding it to the network. This notebook just needs to demonstrate the effect of a gaussian filter on a small section of data.\n",
    "\n",
    "## 1. Load data using standard dataloaders"
   ]
  },
  {
   "cell_type": "code",
   "execution_count": null,
   "metadata": {},
   "outputs": [],
   "source": [
    "from data_utils.S3DISDataLoader import S3DISDataset\n",
    "import data_utils.MastersDataLoader as MastersDataLoader\n",
    "import numpy as np\n",
    "import torch\n",
    "import time\n",
    "\n",
    "from types import SimpleNamespace\n",
    "\n",
    "root = 'data/s3dis/songomnara'\n",
    "NUM_POINT = 2048\n",
    "NUM_CLASSES = 2\n",
    "BATCH_SIZE = 120\n",
    "args = {'test_area': 2, 'block_size': 1,\n",
    "        'test_sample_rate': 1, 'shuffle_training_data': True}\n",
    "args = SimpleNamespace(**args)\n",
    "\n",
    "print(\"start loading training data ...\")\n",
    "TRAIN_DATASET = S3DISDataset(split='train', data_root=root, num_point=NUM_POINT, test_area=args.test_area,\n",
    "                             block_size=args.block_size, sample_rate=1.0, transform=None, num_classes=NUM_CLASSES)\n",
    "trainDataLoader = torch.utils.data.DataLoader(TRAIN_DATASET, batch_size=BATCH_SIZE,\n",
    "                                              shuffle=args.shuffle_training_data, num_workers=4,\n",
    "                                              pin_memory=True, drop_last=True,\n",
    "                                              worker_init_fn=lambda x: np.random.seed(x + int(time.time())))"
   ]
  },
  {
   "cell_type": "markdown",
   "metadata": {},
   "source": [
    "## 2. Define the filter"
   ]
  },
  {
   "cell_type": "code",
   "execution_count": null,
   "metadata": {},
   "outputs": [],
   "source": [
    "def gaussian_filter(points):\n",
    "    \"\"\"Applies a gausssian filter over a set of 3D points\n",
    "    \"\"\"\n",
    "    # TODO: Apply the filter\n",
    "    return points"
   ]
  },
  {
   "cell_type": "markdown",
   "metadata": {},
   "source": [
    "## 3. Visualise"
   ]
  },
  {
   "cell_type": "code",
   "execution_count": null,
   "metadata": {},
   "outputs": [],
   "source": [
    "import pptk\n",
    "import open3d\n",
    "\n",
    "data_iter = iter(trainDataLoader)\n",
    "points, target, room_idx = next(iter)\n",
    "\n",
    "print(\"Show initial points\")\n",
    "viewer = pptk.viewer(points, target)\n",
    "\n",
    "print(\"Apply gaussian filter over the inputs\")\n",
    "g_points = gaussian_filter(points)"
   ]
  }
 ],
 "metadata": {
  "language_info": {
   "name": "python"
  },
  "orig_nbformat": 4
 },
 "nbformat": 4,
 "nbformat_minor": 2
}
