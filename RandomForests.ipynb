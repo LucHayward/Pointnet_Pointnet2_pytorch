{
 "cells": [
  {
   "cell_type": "code",
   "execution_count": 21,
   "outputs": [],
   "source": [
    "import numpy as np\n",
    "import pptk\n",
    "from pathlib import Path\n",
    "\n",
    "from data_utils.MastersDataset import MastersDataset\n",
    "\n",
    "from sklearn.ensemble import RandomForestClassifier\n",
    "from sklearn.metrics import classification_report, confusion_matrix, accuracy_score, f1_score, jaccard_score"
   ],
   "metadata": {
    "collapsed": false,
    "pycharm": {
     "name": "#%%\n"
    }
   }
  },
  {
   "cell_type": "markdown",
   "source": [
    "# Random Forests\n",
    "## Get training data"
   ],
   "metadata": {
    "collapsed": false,
    "pycharm": {
     "name": "#%% md\n"
    }
   }
  },
  {
   "cell_type": "code",
   "execution_count": 22,
   "outputs": [
    {
     "name": "stderr",
     "output_type": "stream",
     "text": [
      "100%|██████████| 1/1 [00:00<00:00,  1.17it/s]\n"
     ]
    },
    {
     "name": "stdout",
     "output_type": "stream",
     "text": [
      "Sorting by x axis...3.10s\n"
     ]
    },
    {
     "name": "stderr",
     "output_type": "stream",
     "text": [
      "split y-axis: 100%|██████████| 12/12 [00:04<00:00,  2.80it/s]\n",
      "Fill batches: 100%|██████████| 126/126 [00:08<00:00, 15.53it/s]\n",
      "100%|██████████| 1/1 [00:02<00:00,  2.47s/it]\n"
     ]
    },
    {
     "name": "stdout",
     "output_type": "stream",
     "text": [
      "Sorting by x axis...8.00s\n"
     ]
    },
    {
     "name": "stderr",
     "output_type": "stream",
     "text": [
      "split y-axis: 100%|██████████| 52/52 [00:12<00:00,  4.26it/s]\n",
      "Fill batches: 100%|██████████| 364/364 [00:47<00:00,  7.74it/s]\n"
     ]
    }
   ],
   "source": [
    "data_path = Path('/home/luc/PycharmProjects/Pointnet_Pointnet2_pytorch/data/PatrickData/Church/MastersFormat/hand_selected_reversed')\n",
    "\n",
    "train_data = MastersDataset('train', data_path, sample_all_points=True)\n",
    "val_data = MastersDataset('validate', data_path, sample_all_points=True)"
   ],
   "metadata": {
    "collapsed": false,
    "pycharm": {
     "name": "#%%\n"
    }
   }
  },
  {
   "cell_type": "markdown",
   "source": [
    "## Train Classifier"
   ],
   "metadata": {
    "collapsed": false,
    "pycharm": {
     "name": "#%% md\n"
    }
   }
  },
  {
   "cell_type": "code",
   "execution_count": 23,
   "outputs": [
    {
     "name": "stderr",
     "output_type": "stream",
     "text": [
      "[Parallel(n_jobs=-1)]: Using backend ThreadingBackend with 4 concurrent workers.\n",
      "[Parallel(n_jobs=-1)]: Done  32 out of  32 | elapsed:  3.5min finished\n"
     ]
    },
    {
     "data": {
      "text/plain": "RandomForestClassifier(max_depth=32, min_samples_split=20, n_estimators=32,\n                       n_jobs=-1, verbose=1)"
     },
     "execution_count": 23,
     "metadata": {},
     "output_type": "execute_result"
    }
   ],
   "source": [
    "classifier = RandomForestClassifier(n_estimators=32, max_depth=32, min_samples_split=20, n_jobs=-1, verbose=1)\n",
    "\n",
    "X, y = np.vstack(train_data.data_segment), np.hstack(train_data.labels_segment)\n",
    "classifier.fit(X=X, y=y)"
   ],
   "metadata": {
    "collapsed": false,
    "pycharm": {
     "name": "#%%\n"
    }
   }
  },
  {
   "cell_type": "markdown",
   "source": [
    "### Training performance"
   ],
   "metadata": {
    "collapsed": false,
    "pycharm": {
     "name": "#%% md\n"
    }
   }
  },
  {
   "cell_type": "code",
   "execution_count": 24,
   "outputs": [
    {
     "name": "stderr",
     "output_type": "stream",
     "text": [
      "[Parallel(n_jobs=4)]: Using backend ThreadingBackend with 4 concurrent workers.\n",
      "[Parallel(n_jobs=4)]: Done  32 out of  32 | elapsed:    4.6s finished\n"
     ]
    },
    {
     "name": "stdout",
     "output_type": "stream",
     "text": [
      "Confusion matrix:\n",
      "[[6474654     107]\n",
      " [   2734  158025]]\n",
      "Classification_report:\n",
      "              precision    recall  f1-score   support\n",
      "\n",
      "           0       1.00      1.00      1.00   6474761\n",
      "           1       1.00      0.98      0.99    160759\n",
      "\n",
      "    accuracy                           1.00   6635520\n",
      "   macro avg       1.00      0.99      1.00   6635520\n",
      "weighted avg       1.00      1.00      1.00   6635520\n",
      "\n",
      "Accuracy score: 0.999571849681713\n",
      "F1 score: 0.9910909997459948\n",
      "Feature importances: [0.13046538 0.26589841 0.55609022 0.04754599]\n"
     ]
    }
   ],
   "source": [
    "train_preds = classifier.predict(X)\n",
    "# Evaluating the algorithm\n",
    "print(f\"Confusion matrix:\\n{confusion_matrix(y, train_preds)}\")\n",
    "print(f\"Classification_report:\\n{classification_report(y, train_preds)}\")\n",
    "print(f\"Accuracy score: {accuracy_score(y, train_preds)}\")\n",
    "print(f\"F1 score: {f1_score(y, train_preds)}\")\n",
    "print(f\"Feature importances: {classifier.feature_importances_}\")\n",
    "print(f\"IoU/JaccardScore: {jaccard_score(y, train_preds, average=None)}\")\n",
    "print(f\"mIoU/JaccardScore: {jaccard_score(y, train_preds, average='Macro')}\")"
   ],
   "metadata": {
    "collapsed": false,
    "pycharm": {
     "name": "#%%\n"
    }
   }
  },
  {
   "cell_type": "code",
   "execution_count": 25,
   "outputs": [],
   "source": [
    "v = pptk.viewer(X[:,:3],X[:,3], y, train_preds, train_preds!=y)"
   ],
   "metadata": {
    "collapsed": false,
    "pycharm": {
     "name": "#%%\n"
    }
   }
  },
  {
   "cell_type": "code",
   "execution_count": 26,
   "outputs": [
    {
     "name": "stderr",
     "output_type": "stream",
     "text": [
      "[Parallel(n_jobs=4)]: Using backend ThreadingBackend with 4 concurrent workers.\n",
      "[Parallel(n_jobs=4)]: Done  32 out of  32 | elapsed:   17.7s finished\n"
     ]
    }
   ],
   "source": [
    "preds = classifier.predict(np.vstack(val_data.data_segment))"
   ],
   "metadata": {
    "collapsed": false,
    "pycharm": {
     "name": "#%%\n"
    }
   }
  },
  {
   "cell_type": "code",
   "execution_count": 27,
   "outputs": [
    {
     "name": "stdout",
     "output_type": "stream",
     "text": [
      "confusion_matrix:\n",
      "[[13945175  1892495]\n",
      " [  170122   736656]]\n",
      "classification_report:\n",
      "              precision    recall  f1-score   support\n",
      "\n",
      "           0       0.99      0.88      0.93  15837670\n",
      "           1       0.28      0.81      0.42    906778\n",
      "\n",
      "    accuracy                           0.88  16744448\n",
      "   macro avg       0.63      0.85      0.67  16744448\n",
      "weighted avg       0.95      0.88      0.90  16744448\n",
      "\n",
      "accuracy score: 0.8768178562828706\n",
      "Feature importances: [0.13046538 0.26589841 0.55609022 0.04754599]\n"
     ]
    }
   ],
   "source": [
    "# Evaluating the algorithm\n",
    "all_labels  = np.hstack(val_data.labels_segment)\n",
    "print(f\"confusion_matrix:\\n{confusion_matrix(all_labels, preds)}\")\n",
    "print(f\"classification_report:\\n{classification_report(all_labels, preds)}\")\n",
    "print(f\"accuracy score: {accuracy_score(all_labels, preds)}\")\n",
    "print(f\"Feature importances: {classifier.feature_importances_}\")"
   ],
   "metadata": {
    "collapsed": false,
    "pycharm": {
     "name": "#%%\n"
    }
   }
  },
  {
   "cell_type": "code",
   "execution_count": 28,
   "outputs": [],
   "source": [
    "v= pptk.viewer(np.vstack(val_data.data_segment)[:,:3], all_labels, preds, preds != all_labels)"
   ],
   "metadata": {
    "collapsed": false,
    "pycharm": {
     "name": "#%%\n"
    }
   }
  }
 ],
 "metadata": {
  "kernelspec": {
   "display_name": "Python 3",
   "language": "python",
   "name": "python3"
  },
  "language_info": {
   "codemirror_mode": {
    "name": "ipython",
    "version": 2
   },
   "file_extension": ".py",
   "mimetype": "text/x-python",
   "name": "python",
   "nbconvert_exporter": "python",
   "pygments_lexer": "ipython2",
   "version": "2.7.6"
  }
 },
 "nbformat": 4,
 "nbformat_minor": 0
}