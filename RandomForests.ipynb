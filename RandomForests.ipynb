{
 "cells": [
  {
   "cell_type": "code",
   "execution_count": 1,
   "outputs": [],
   "source": [
    "import numpy as np\n",
    "import pptk\n",
    "from pathlib import Path\n",
    "\n",
    "from data_utils.MastersDataset import MastersDataset\n",
    "\n",
    "from sklearn.ensemble import RandomForestClassifier\n",
    "from sklearn.metrics import classification_report, confusion_matrix, accuracy_score, f1_score, jaccard_score"
   ],
   "metadata": {
    "collapsed": false,
    "pycharm": {
     "name": "#%%\n"
    }
   }
  },
  {
   "cell_type": "markdown",
   "source": [
    "# Random Forests\n",
    "## Get training data"
   ],
   "metadata": {
    "collapsed": false,
    "pycharm": {
     "name": "#%% md\n"
    }
   }
  },
  {
   "cell_type": "code",
   "execution_count": 2,
   "outputs": [
    {
     "name": "stderr",
     "output_type": "stream",
     "text": [
      "100%|██████████| 1/1 [00:00<00:00,  1.20it/s]\n"
     ]
    },
    {
     "name": "stdout",
     "output_type": "stream",
     "text": [
      "Sorting by x axis...3.12s\n"
     ]
    },
    {
     "name": "stderr",
     "output_type": "stream",
     "text": [
      "split y-axis: 100%|██████████| 12/12 [00:04<00:00,  2.64it/s]\n",
      "Fill batches: 100%|██████████| 126/126 [00:08<00:00, 14.96it/s]\n",
      "100%|██████████| 1/1 [00:02<00:00,  2.10s/it]\n"
     ]
    },
    {
     "name": "stdout",
     "output_type": "stream",
     "text": [
      "Sorting by x axis...7.90s\n"
     ]
    },
    {
     "name": "stderr",
     "output_type": "stream",
     "text": [
      "split y-axis: 100%|██████████| 52/52 [00:11<00:00,  4.43it/s]\n",
      "Fill batches: 100%|██████████| 364/364 [00:47<00:00,  7.69it/s]\n"
     ]
    }
   ],
   "source": [
    "data_path = Path('/home/luc/PycharmProjects/Pointnet_Pointnet2_pytorch/data/PatrickData/Church/MastersFormat/hand_selected_reversed')\n",
    "\n",
    "train_data = MastersDataset('train', data_path, sample_all_points=True)\n",
    "val_data = MastersDataset('validate', data_path, sample_all_points=True)\n",
    "X, y = np.vstack(train_data.data_segment), np.hstack(train_data.labels_segment)"
   ],
   "metadata": {
    "collapsed": false,
    "pycharm": {
     "name": "#%%\n"
    }
   }
  },
  {
   "cell_type": "code",
   "execution_count": 3,
   "outputs": [],
   "source": [
    "def perf_report(clf, X, y):\n",
    "    preds = clf.predict(X)\n",
    "    # Evaluating the algorithm\n",
    "    print(f\"Confusion matrix:\\n{confusion_matrix(y, preds)}\")\n",
    "    print(f\"Classification_report:\\n{classification_report(y, preds)}\")\n",
    "    print(f\"Accuracy score: {accuracy_score(y, preds)}\")\n",
    "    print(f\"F1 score: {f1_score(y, preds)}\")\n",
    "    print(f\"Feature importances: {clf.feature_importances_}\")\n",
    "    print(f\"IoU/JaccardScore: {jaccard_score(y, preds, average=None)}\")\n",
    "    print(f\"mIoU/JaccardScore: {jaccard_score(y, preds, average='Macro')}\")\n",
    "    return preds"
   ],
   "metadata": {
    "collapsed": false,
    "pycharm": {
     "name": "#%%\n"
    }
   }
  },
  {
   "cell_type": "markdown",
   "source": [
    "## Train Classifier\n",
    "### n_estimators=32, max_depth=32, min_samples_split=20"
   ],
   "metadata": {
    "collapsed": false,
    "pycharm": {
     "name": "#%% md\n"
    }
   }
  },
  {
   "cell_type": "code",
   "execution_count": 4,
   "outputs": [
    {
     "name": "stdout",
     "output_type": "stream",
     "text": [
      "Training Performance Report:\n",
      "Confusion matrix:\n",
      "[[6474454     112]\n",
      " [   2846  158108]]\n",
      "Classification_report:\n",
      "              precision    recall  f1-score   support\n",
      "\n",
      "           0       1.00      1.00      1.00   6474566\n",
      "           1       1.00      0.98      0.99    160954\n",
      "\n",
      "    accuracy                           1.00   6635520\n",
      "   macro avg       1.00      0.99      1.00   6635520\n",
      "weighted avg       1.00      1.00      1.00   6635520\n",
      "\n",
      "Accuracy score: 0.9995542173032408\n",
      "F1 score: 0.9907323278211885\n",
      "Feature importances: [0.11937701 0.27933054 0.55619878 0.04509367]\n",
      "IoU/JaccardScore: [0.99954334 0.98163486]\n"
     ]
    },
    {
     "ename": "ValueError",
     "evalue": "average has to be one of (None, 'micro', 'macro', 'weighted', 'samples')",
     "output_type": "error",
     "traceback": [
      "\u001B[0;31m---------------------------------------------------------------------------\u001B[0m",
      "\u001B[0;31mValueError\u001B[0m                                Traceback (most recent call last)",
      "\u001B[0;32m/tmp/ipykernel_42094/760316499.py\u001B[0m in \u001B[0;36m<module>\u001B[0;34m\u001B[0m\n\u001B[1;32m      2\u001B[0m \u001B[0mclassifier\u001B[0m\u001B[0;34m.\u001B[0m\u001B[0mfit\u001B[0m\u001B[0;34m(\u001B[0m\u001B[0mX\u001B[0m\u001B[0;34m=\u001B[0m\u001B[0mX\u001B[0m\u001B[0;34m,\u001B[0m \u001B[0my\u001B[0m\u001B[0;34m=\u001B[0m\u001B[0my\u001B[0m\u001B[0;34m)\u001B[0m\u001B[0;34m\u001B[0m\u001B[0;34m\u001B[0m\u001B[0m\n\u001B[1;32m      3\u001B[0m \u001B[0mprint\u001B[0m\u001B[0;34m(\u001B[0m\u001B[0;34m\"Training Performance Report:\"\u001B[0m\u001B[0;34m)\u001B[0m\u001B[0;34m\u001B[0m\u001B[0;34m\u001B[0m\u001B[0m\n\u001B[0;32m----> 4\u001B[0;31m \u001B[0mtrain_preds\u001B[0m \u001B[0;34m=\u001B[0m \u001B[0mperf_report\u001B[0m\u001B[0;34m(\u001B[0m\u001B[0mclassifier\u001B[0m\u001B[0;34m,\u001B[0m \u001B[0mX\u001B[0m\u001B[0;34m=\u001B[0m\u001B[0mX\u001B[0m\u001B[0;34m,\u001B[0m \u001B[0my\u001B[0m\u001B[0;34m=\u001B[0m\u001B[0my\u001B[0m\u001B[0;34m)\u001B[0m\u001B[0;34m\u001B[0m\u001B[0;34m\u001B[0m\u001B[0m\n\u001B[0m\u001B[1;32m      5\u001B[0m \u001B[0;34m\u001B[0m\u001B[0m\n\u001B[1;32m      6\u001B[0m \u001B[0mprint\u001B[0m\u001B[0;34m(\u001B[0m\u001B[0;34m\"Validation Performance Report\"\u001B[0m\u001B[0;34m)\u001B[0m\u001B[0;34m\u001B[0m\u001B[0;34m\u001B[0m\u001B[0m\n",
      "\u001B[0;32m/tmp/ipykernel_42094/2858198177.py\u001B[0m in \u001B[0;36mperf_report\u001B[0;34m(clf, X, y)\u001B[0m\n\u001B[1;32m      8\u001B[0m     \u001B[0mprint\u001B[0m\u001B[0;34m(\u001B[0m\u001B[0;34mf\"Feature importances: {clf.feature_importances_}\"\u001B[0m\u001B[0;34m)\u001B[0m\u001B[0;34m\u001B[0m\u001B[0;34m\u001B[0m\u001B[0m\n\u001B[1;32m      9\u001B[0m     \u001B[0mprint\u001B[0m\u001B[0;34m(\u001B[0m\u001B[0;34mf\"IoU/JaccardScore: {jaccard_score(y, preds, average=None)}\"\u001B[0m\u001B[0;34m)\u001B[0m\u001B[0;34m\u001B[0m\u001B[0;34m\u001B[0m\u001B[0m\n\u001B[0;32m---> 10\u001B[0;31m     \u001B[0mprint\u001B[0m\u001B[0;34m(\u001B[0m\u001B[0;34mf\"mIoU/JaccardScore: {jaccard_score(y, preds, average='Macro')}\"\u001B[0m\u001B[0;34m)\u001B[0m\u001B[0;34m\u001B[0m\u001B[0;34m\u001B[0m\u001B[0m\n\u001B[0m\u001B[1;32m     11\u001B[0m     \u001B[0;32mreturn\u001B[0m \u001B[0mpreds\u001B[0m\u001B[0;34m\u001B[0m\u001B[0;34m\u001B[0m\u001B[0m\n",
      "\u001B[0;32m~/anaconda3/envs/Pointnet_Pointnet2_pytorch/lib/python3.7/site-packages/sklearn/metrics/_classification.py\u001B[0m in \u001B[0;36mjaccard_score\u001B[0;34m(y_true, y_pred, labels, pos_label, average, sample_weight, zero_division)\u001B[0m\n\u001B[1;32m    783\u001B[0m     \u001B[0marray\u001B[0m\u001B[0;34m(\u001B[0m\u001B[0;34m[\u001B[0m\u001B[0;36m1.\u001B[0m \u001B[0;34m,\u001B[0m \u001B[0;36m0.\u001B[0m \u001B[0;34m,\u001B[0m \u001B[0;36m0.33\u001B[0m\u001B[0;34m...\u001B[0m\u001B[0;34m]\u001B[0m\u001B[0;34m)\u001B[0m\u001B[0;34m\u001B[0m\u001B[0;34m\u001B[0m\u001B[0m\n\u001B[1;32m    784\u001B[0m     \"\"\"\n\u001B[0;32m--> 785\u001B[0;31m     \u001B[0mlabels\u001B[0m \u001B[0;34m=\u001B[0m \u001B[0m_check_set_wise_labels\u001B[0m\u001B[0;34m(\u001B[0m\u001B[0my_true\u001B[0m\u001B[0;34m,\u001B[0m \u001B[0my_pred\u001B[0m\u001B[0;34m,\u001B[0m \u001B[0maverage\u001B[0m\u001B[0;34m,\u001B[0m \u001B[0mlabels\u001B[0m\u001B[0;34m,\u001B[0m \u001B[0mpos_label\u001B[0m\u001B[0;34m)\u001B[0m\u001B[0;34m\u001B[0m\u001B[0;34m\u001B[0m\u001B[0m\n\u001B[0m\u001B[1;32m    786\u001B[0m     \u001B[0msamplewise\u001B[0m \u001B[0;34m=\u001B[0m \u001B[0maverage\u001B[0m \u001B[0;34m==\u001B[0m \u001B[0;34m\"samples\"\u001B[0m\u001B[0;34m\u001B[0m\u001B[0;34m\u001B[0m\u001B[0m\n\u001B[1;32m    787\u001B[0m     MCM = multilabel_confusion_matrix(\n",
      "\u001B[0;32m~/anaconda3/envs/Pointnet_Pointnet2_pytorch/lib/python3.7/site-packages/sklearn/metrics/_classification.py\u001B[0m in \u001B[0;36m_check_set_wise_labels\u001B[0;34m(y_true, y_pred, average, labels, pos_label)\u001B[0m\n\u001B[1;32m   1334\u001B[0m     \u001B[0maverage_options\u001B[0m \u001B[0;34m=\u001B[0m \u001B[0;34m(\u001B[0m\u001B[0;32mNone\u001B[0m\u001B[0;34m,\u001B[0m \u001B[0;34m\"micro\"\u001B[0m\u001B[0;34m,\u001B[0m \u001B[0;34m\"macro\"\u001B[0m\u001B[0;34m,\u001B[0m \u001B[0;34m\"weighted\"\u001B[0m\u001B[0;34m,\u001B[0m \u001B[0;34m\"samples\"\u001B[0m\u001B[0;34m)\u001B[0m\u001B[0;34m\u001B[0m\u001B[0;34m\u001B[0m\u001B[0m\n\u001B[1;32m   1335\u001B[0m     \u001B[0;32mif\u001B[0m \u001B[0maverage\u001B[0m \u001B[0;32mnot\u001B[0m \u001B[0;32min\u001B[0m \u001B[0maverage_options\u001B[0m \u001B[0;32mand\u001B[0m \u001B[0maverage\u001B[0m \u001B[0;34m!=\u001B[0m \u001B[0;34m\"binary\"\u001B[0m\u001B[0;34m:\u001B[0m\u001B[0;34m\u001B[0m\u001B[0;34m\u001B[0m\u001B[0m\n\u001B[0;32m-> 1336\u001B[0;31m         \u001B[0;32mraise\u001B[0m \u001B[0mValueError\u001B[0m\u001B[0;34m(\u001B[0m\u001B[0;34m\"average has to be one of \"\u001B[0m \u001B[0;34m+\u001B[0m \u001B[0mstr\u001B[0m\u001B[0;34m(\u001B[0m\u001B[0maverage_options\u001B[0m\u001B[0;34m)\u001B[0m\u001B[0;34m)\u001B[0m\u001B[0;34m\u001B[0m\u001B[0;34m\u001B[0m\u001B[0m\n\u001B[0m\u001B[1;32m   1337\u001B[0m \u001B[0;34m\u001B[0m\u001B[0m\n\u001B[1;32m   1338\u001B[0m     \u001B[0my_type\u001B[0m\u001B[0;34m,\u001B[0m \u001B[0my_true\u001B[0m\u001B[0;34m,\u001B[0m \u001B[0my_pred\u001B[0m \u001B[0;34m=\u001B[0m \u001B[0m_check_targets\u001B[0m\u001B[0;34m(\u001B[0m\u001B[0my_true\u001B[0m\u001B[0;34m,\u001B[0m \u001B[0my_pred\u001B[0m\u001B[0;34m)\u001B[0m\u001B[0;34m\u001B[0m\u001B[0;34m\u001B[0m\u001B[0m\n",
      "\u001B[0;31mValueError\u001B[0m: average has to be one of (None, 'micro', 'macro', 'weighted', 'samples')"
     ]
    }
   ],
   "source": [
    "classifier = RandomForestClassifier(n_estimators=32, max_depth=32, min_samples_split=20, n_jobs=-1)\n",
    "classifier.fit(X=X, y=y)\n",
    "print(\"Training Performance Report:\")\n",
    "train_preds = perf_report(classifier, X=X, y=y)\n",
    "\n",
    "print(\"Validation Performance Report\")\n",
    "val_labels = np.hstack(val_data.labels_segment)\n",
    "val_preds = perf_report(classifier, X=np.vstack(val_data.data_segment), y=val_labels)\n"
   ],
   "metadata": {
    "collapsed": false,
    "pycharm": {
     "name": "#%%\n"
    }
   }
  },
  {
   "cell_type": "code",
   "execution_count": null,
   "outputs": [],
   "source": [
    "v_t = pptk.viewer(X[:,:3],X[:,3], y, train_preds, train_preds!=y)\n",
    "\n",
    "v_v= pptk.viewer(np.vstack(val_data.data_segment)[:,:3], val_labels, val_preds, val_preds != val_labels)"
   ],
   "metadata": {
    "collapsed": false,
    "pycharm": {
     "name": "#%%\n"
    }
   }
  },
  {
   "cell_type": "markdown",
   "source": [
    "### Balanced class weights"
   ],
   "metadata": {
    "collapsed": false,
    "pycharm": {
     "name": "#%% md\n"
    }
   }
  },
  {
   "cell_type": "code",
   "execution_count": null,
   "outputs": [],
   "source": [
    "classifier = RandomForestClassifier(n_estimators=32, max_depth=32, min_samples_split=20,class_weight='balanced', n_jobs=-1)\n",
    "classifier.fit(X=X, y=y)\n",
    "print(\"Training Performance Report:\")\n",
    "train_preds = perf_report(classifier, X=X, y=y)\n",
    "v_t = pptk.viewer(X[:,:3],X[:,3], y, train_preds, train_preds!=y)\n",
    "\n",
    "print(\"Validation Performance Report\")\n",
    "val_labels = np.hstack(val_data.labels_segment)\n",
    "val_preds = perf_report(classifier, X=np.vstack(val_data.data_segment), y=val_labels)\n",
    "v= pptk.viewer(np.vstack(val_data.data_segment)[:,:3], val_labels, val_preds, val_preds != val_labels)"
   ],
   "metadata": {
    "collapsed": false,
    "pycharm": {
     "name": "#%%\n"
    }
   }
  },
  {
   "cell_type": "code",
   "execution_count": null,
   "outputs": [],
   "source": [
    "v_t = pptk.viewer(X[:,:3],X[:,3], y, train_preds, train_preds!=y)\n",
    "\n",
    "v_v= pptk.viewer(np.vstack(val_data.data_segment)[:,:3], val_labels, val_preds, val_preds != val_labels)"
   ],
   "metadata": {
    "collapsed": false,
    "pycharm": {
     "name": "#%%\n"
    }
   }
  },
  {
   "cell_type": "markdown",
   "source": [
    "### Balanced subsample class weights"
   ],
   "metadata": {
    "collapsed": false,
    "pycharm": {
     "name": "#%% md\n"
    }
   }
  },
  {
   "cell_type": "code",
   "execution_count": null,
   "outputs": [],
   "source": [
    "classifier = RandomForestClassifier(n_estimators=32, max_depth=32, min_samples_split=20,class_weight='balanced_subsample', n_jobs=-1)\n",
    "classifier.fit(X=X, y=y)\n",
    "print(\"Training Performance Report:\")\n",
    "train_preds = perf_report(classifier, X=X, y=y)\n",
    "v_t = pptk.viewer(X[:,:3],X[:,3], y, train_preds, train_preds!=y)\n",
    "\n",
    "print(\"Validation Performance Report\")\n",
    "val_labels = np.hstack(val_data.labels_segment)\n",
    "val_preds = perf_report(classifier, X=np.vstack(val_data.data_segment), y=val_labels)\n",
    "v= pptk.viewer(np.vstack(val_data.data_segment)[:,:3], val_labels, val_preds, val_preds != val_labels)"
   ],
   "metadata": {
    "collapsed": false,
    "pycharm": {
     "name": "#%%\n"
    }
   }
  },
  {
   "cell_type": "code",
   "execution_count": null,
   "outputs": [],
   "source": [
    "v_t = pptk.viewer(X[:,:3],X[:,3], y, train_preds, train_preds!=y)\n",
    "\n",
    "v_v= pptk.viewer(np.vstack(val_data.data_segment)[:,:3], val_labels, val_preds, val_preds != val_labels)"
   ],
   "metadata": {
    "collapsed": false,
    "pycharm": {
     "name": "#%%\n"
    }
   }
  }
 ],
 "metadata": {
  "kernelspec": {
   "display_name": "Python 3",
   "language": "python",
   "name": "python3"
  },
  "language_info": {
   "codemirror_mode": {
    "name": "ipython",
    "version": 2
   },
   "file_extension": ".py",
   "mimetype": "text/x-python",
   "name": "python",
   "nbconvert_exporter": "python",
   "pygments_lexer": "ipython2",
   "version": "2.7.6"
  }
 },
 "nbformat": 4,
 "nbformat_minor": 0
}