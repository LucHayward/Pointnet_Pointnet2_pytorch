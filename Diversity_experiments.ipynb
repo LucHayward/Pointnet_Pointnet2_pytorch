{
 "cells": [
  {
   "cell_type": "code",
   "execution_count": 1,
   "metadata": {
    "collapsed": true,
    "pycharm": {
     "name": "#%%\n"
    }
   },
   "outputs": [],
   "source": [
    "import numpy as np\n",
    "from scipy.spatial import distance\n",
    "import matplotlib.pyplot as plt"
   ]
  },
  {
   "cell_type": "markdown",
   "metadata": {},
   "source": [
    "## Setup point set\n",
    "In this notebook we use 2D points as a proxy for our cells that we sample and get the average feature vectors for."
   ]
  },
  {
   "cell_type": "code",
   "execution_count": 2,
   "metadata": {},
   "outputs": [
    {
     "data": {
      "image/png": "[encoded data removed]",
      "text/plain": [
       "<Figure size 432x288 with 1 Axes>"
      ]
     },
     "metadata": {
      "needs_background": "light"
     },
     "output_type": "display_data"
    }
   ],
   "source": [
    "npoints = 10\n",
    "points = np.round(np.random.random((npoints,2))*100, 2)\n",
    "distances = distance.pdist(points, 'sqeuclidean').round(2)\n",
    "sq_matrix_distances = distance.squareform(distances)\n",
    "plt.scatter(points[:,0], points[:,1])\n",
    "for i, label in enumerate(points):\n",
    "    plt.annotate(i, label)\n"
   ]
  },
  {
   "cell_type": "markdown",
   "metadata": {},
   "source": [
    "## Disimilarity using distance\n",
    "We could look into using other distance metrics (*especially* in the high dimensional feature space where euclidean performs poorly)."
   ]
  },
  {
   "cell_type": "code",
   "execution_count": 3,
   "metadata": {},
   "outputs": [
    {
     "data": {
      "text/plain": [
       "array([ 278.71,  257.03, 1398.41,  475.56, 1398.41,  257.03, 3168.1 ,\n",
       "        157.48,  157.48,  715.23])"
      ]
     },
     "execution_count": 3,
     "metadata": {},
     "output_type": "execute_result"
    }
   ],
   "source": [
    "np.sort(sq_matrix_distances, axis=0)[1]"
   ]
  },
  {
   "cell_type": "code",
   "execution_count": 4,
   "metadata": {},
   "outputs": [
    {
     "name": "stdout",
     "output_type": "stream",
     "text": [
      "Mean distance from other points:\n",
      "[ 278.71  257.03 1398.41  475.56 1398.41  257.03 3168.1   157.48  157.48\n",
      "  715.23]\n",
      "Points ordered by most dissimilar: \n",
      "[[85.44 13.88]\n",
      " [73.59 18.01]\n",
      " [70.37 39.72]\n",
      " [60.77 52.56]\n",
      " [79.1  53.95]\n",
      " [50.81 71.96]\n",
      " [64.69 94.82]\n",
      " [ 3.18 91.26]\n",
      " [15.86 56.08]\n",
      " [ 3.67  1.13]]\n"
     ]
    }
   ],
   "source": [
    "# pointwise_dissimilarity = sq_matrix_distances.mean(axis=0)  # mean distance\n",
    "# dissimilarity_ordering_idxs = np.argsort(pointwise_dissimilarity)[::-1]\n",
    "\n",
    "pointwise_dissimilarity = np.sort(sq_matrix_distances, axis=0)[1]  # min distance \n",
    "dissimilarity_ordering_idxs = np.argsort(pointwise_dissimilarity)\n",
    "\n",
    "print(f\"Mean distance from other points:\\n{pointwise_dissimilarity}\")\n",
    "print(\"Points ordered by most dissimilar: \")\n",
    "print(points[dissimilarity_ordering_idxs])"
   ]
  },
  {
   "cell_type": "code",
   "execution_count": 5,
   "metadata": {},
   "outputs": [
    {
     "data": {
      "image/png": "[encoded data removed]",
      "text/plain": [
       "<Figure size 432x288 with 1 Axes>"
      ]
     },
     "metadata": {
      "needs_background": "light"
     },
     "output_type": "display_data"
    }
   ],
   "source": [
    "plt.scatter(points[:,0], points[:,1])\n",
    "for i, label in enumerate (dissimilarity_ordering_idxs[:10]):\n",
    "    plt.annotate(i, (points[label,0], points[label,1]))"
   ]
  },
  {
   "cell_type": "markdown",
   "metadata": {},
   "source": [
    "## Clustering"
   ]
  },
  {
   "cell_type": "code",
   "execution_count": 6,
   "metadata": {},
   "outputs": [],
   "source": [
    "from sklearn import cluster"
   ]
  },
  {
   "cell_type": "markdown",
   "metadata": {},
   "source": [
    "### Clustering based on point coords (aka features)\n",
    "Based on the features (in this case just x,y coords) we can cluster the points into groups.\n",
    "\n",
    "In our case we would be using the 128-dimensional feature vectors (maybe including XYZ somehow, this is where Jan brings in Space2Vec, although I'm not sure its necessary).\n",
    "\n",
    "From each cluster we could then take the sample with the highest uncertainty?"
   ]
  },
  {
   "cell_type": "code",
   "execution_count": 7,
   "metadata": {},
   "outputs": [],
   "source": [
    "kmeans = cluster.KMeans(n_clusters=3, random_state=0).fit(points)"
   ]
  },
  {
   "cell_type": "markdown",
   "metadata": {},
   "source": [
    "Get the most certral point in each cluster"
   ]
  },
  {
   "cell_type": "code",
   "execution_count": 8,
   "metadata": {},
   "outputs": [
    {
     "data": {
      "image/png": "[encoded data removed]",
      "text/plain": [
       "<Figure size 432x288 with 1 Axes>"
      ]
     },
     "metadata": {
      "needs_background": "light"
     },
     "output_type": "display_data"
    }
   ],
   "source": [
    "plt.scatter(points[:,0], points[:,1], c=kmeans.labels_)\n",
    "for i, center in enumerate(kmeans.cluster_centers_):\n",
    "    # get point closest to the center\n",
    "    cluster_points = points[np.where(kmeans.labels_ == i)]\n",
    "    closest_point = cluster_points[np.argmin(distance.cdist(cluster_points, [center], 'euclidean'))]\n",
    "    plt.annotate(i, center)\n",
    "    plt.annotate(i, closest_point)"
   ]
  },
  {
   "cell_type": "markdown",
   "metadata": {},
   "source": [
    "#### Ranking the clusters based on variance\n",
    "We give each point a random variance in this example."
   ]
  },
  {
   "cell_type": "code",
   "execution_count": 10,
   "metadata": {},
   "outputs": [
    {
     "name": "stdout",
     "output_type": "stream",
     "text": [
      "Cluster variance:\n",
      "[0.89 0.79 0.35]\n"
     ]
    },
    {
     "data": {
      "image/png": "[encoded data removed]",
      "text/plain": [
       "<Figure size 432x288 with 1 Axes>"
      ]
     },
     "metadata": {
      "needs_background": "light"
     },
     "output_type": "display_data"
    }
   ],
   "source": [
    "# Get the maximum variance of each cluster\n",
    "max_cluster_variance = np.zeros(kmeans.n_clusters)\n",
    "for i in range(kmeans.n_clusters):\n",
    "    max_cluster_variance[i] = variance[np.where(kmeans.labels_ == i)].max().round(2)\n",
    "print(f\"Cluster variance:\\n{max_cluster_variance}\")\n",
    "\n",
    "# Label each cluster with its max_cluster_variance\n",
    "plt.scatter(points[:,0], points[:,1], c=kmeans.labels_)\n",
    "for i, center in enumerate(kmeans.cluster_centers_):\n",
    "    plt.annotate(max_cluster_variance[i], center)\n"
   ]
  },
  {
   "cell_type": "markdown",
   "metadata": {},
   "source": [
    "## ReDAL\n",
    "Score each sample with its uncertainty U\n",
    "\n",
    "Clusters the samples into K clusters based on their feature embeddings\n",
    "\n",
    "Sort the regions based on the uncertainty U\n",
    "\n",
    "For each region, penalise the scores of the remaining regions in that cluster by some factor P\n",
    "\n",
    "The result is a ranking of regions based on uncertainty and diversity (such that the most uncertain regions are ranked first, but repeat regions from the same cluster are unlikely)."
   ]
  },
  {
   "cell_type": "code",
   "execution_count": 11,
   "metadata": {},
   "outputs": [
    {
     "name": "stdout",
     "output_type": "stream",
     "text": [
      "Idx 7, Cluster 0,  variance 0.89: [85.44 13.88]\n",
      "Idx 4, Cluster 1,  variance 0.79: [15.86 56.08]\n",
      "Idx 8, Cluster 0,  variance 0.67: [73.59 18.01]\n",
      "Idx 1, Cluster 0,  variance 0.65: [70.37 39.72]\n",
      "Idx 2, Cluster 1,  variance 0.46: [ 3.18 91.26]\n",
      "Idx 9, Cluster 1,  variance 0.45: [64.69 94.82]\n",
      "Idx 5, Cluster 0,  variance 0.43: [60.77 52.56]\n",
      "Idx 6, Cluster 2,  variance 0.35: [3.67 1.13]\n",
      "Idx 0, Cluster 0,  variance 0.23: [79.1  53.95]\n",
      "Idx 3, Cluster 1,  variance 0.22: [50.81 71.96]\n"
     ]
    },
    {
     "data": {
      "image/png": "[encoded data removed]",
      "text/plain": [
       "<Figure size 432x288 with 1 Axes>"
      ]
     },
     "metadata": {
      "needs_background": "light"
     },
     "output_type": "display_data"
    }
   ],
   "source": [
    "# plot points coloured by cluster and label the top 10 variances\n",
    "plt.scatter(points[:,0], points[:,1], c=kmeans.labels_)\n",
    "# Label the top 10 variances\n",
    "for idx in variance_ordering_idxs[:kmeans.n_clusters]:\n",
    "    plt.annotate(variance[idx].round(2), (points[idx,0], points[idx,1]))\n",
    "for idx in variance_ordering_idxs:\n",
    "    print(f\"Idx {idx}, Cluster {kmeans.labels_[idx]},  variance {variance[idx].round(2)}: {points[idx]}\")"
   ]
  },
  {
   "cell_type": "code",
   "execution_count": 13,
   "metadata": {},
   "outputs": [
    {
     "name": "stdout",
     "output_type": "stream",
     "text": [
      "Old variance_ordering_idxs:\n",
      "[7 4 8 1 2 9 5 6 0 3]\n",
      "New variance_ordering_idxs:\n",
      "[7 4 8 1 6 2 9 5 3 0]\n",
      "Idx 7, Cluster 0,  variance 0.53: [85.44 13.88]\n",
      "Idx 4, Cluster 1,  variance 0.52: [15.86 56.08]\n",
      "Idx 8, Cluster 0,  variance 0.39: [73.59 18.01]\n",
      "Idx 1, Cluster 0,  variance 0.38: [70.37 39.72]\n",
      "Idx 6, Cluster 2,  variance 0.32: [3.67 1.13]\n",
      "Idx 2, Cluster 1,  variance 0.3: [ 3.18 91.26]\n"
     ]
    },
    {
     "ename": "KeyboardInterrupt",
     "evalue": "",
     "output_type": "error",
     "traceback": [
      "\u001b[0;31m---------------------------------------------------------------------------\u001b[0m",
      "\u001b[0;31mKeyboardInterrupt\u001b[0m                         Traceback (most recent call last)",
      "\u001b[0;32m/tmp/ipykernel_66755/1422044719.py\u001b[0m in \u001b[0;36m<module>\u001b[0;34m\u001b[0m\n\u001b[1;32m     13\u001b[0m \u001b[0mprint\u001b[0m\u001b[0;34m(\u001b[0m\u001b[0;34mf\"New variance_ordering_idxs:\\n{variance_ordering_idxs[:10]}\"\u001b[0m\u001b[0;34m)\u001b[0m\u001b[0;34m\u001b[0m\u001b[0;34m\u001b[0m\u001b[0m\n\u001b[1;32m     14\u001b[0m \u001b[0;32mfor\u001b[0m \u001b[0midx\u001b[0m \u001b[0;32min\u001b[0m \u001b[0mvariance_ordering_idxs\u001b[0m\u001b[0;34m:\u001b[0m\u001b[0;34m\u001b[0m\u001b[0;34m\u001b[0m\u001b[0m\n\u001b[0;32m---> 15\u001b[0;31m     \u001b[0mprint\u001b[0m\u001b[0;34m(\u001b[0m\u001b[0;34mf\"Idx {idx}, Cluster {kmeans.labels_[idx]},  variance {variance[idx].round(2)}: {points[idx]}\"\u001b[0m\u001b[0;34m)\u001b[0m\u001b[0;34m\u001b[0m\u001b[0;34m\u001b[0m\u001b[0m\n\u001b[0m\u001b[1;32m     16\u001b[0m \u001b[0;34m\u001b[0m\u001b[0m\n",
      "\u001b[0;32m~/anaconda3/envs/Pointnet_Pointnet2_pytorch/lib/python3.7/site-packages/ipykernel/iostream.py\u001b[0m in \u001b[0;36mwrite\u001b[0;34m(self, string)\u001b[0m\n\u001b[1;32m    517\u001b[0m             \u001b[0mis_child\u001b[0m \u001b[0;34m=\u001b[0m \u001b[0;34m(\u001b[0m\u001b[0;32mnot\u001b[0m \u001b[0mself\u001b[0m\u001b[0;34m.\u001b[0m\u001b[0m_is_master_process\u001b[0m\u001b[0;34m(\u001b[0m\u001b[0;34m)\u001b[0m\u001b[0;34m)\u001b[0m\u001b[0;34m\u001b[0m\u001b[0;34m\u001b[0m\u001b[0m\n\u001b[1;32m    518\u001b[0m             \u001b[0;31m# only touch the buffer in the IO thread to avoid races\u001b[0m\u001b[0;34m\u001b[0m\u001b[0;34m\u001b[0m\u001b[0;34m\u001b[0m\u001b[0m\n\u001b[0;32m--> 519\u001b[0;31m             \u001b[0mself\u001b[0m\u001b[0;34m.\u001b[0m\u001b[0mpub_thread\u001b[0m\u001b[0;34m.\u001b[0m\u001b[0mschedule\u001b[0m\u001b[0;34m(\u001b[0m\u001b[0;32mlambda\u001b[0m\u001b[0;34m:\u001b[0m \u001b[0mself\u001b[0m\u001b[0;34m.\u001b[0m\u001b[0m_buffer\u001b[0m\u001b[0;34m.\u001b[0m\u001b[0mwrite\u001b[0m\u001b[0;34m(\u001b[0m\u001b[0mstring\u001b[0m\u001b[0;34m)\u001b[0m\u001b[0;34m)\u001b[0m\u001b[0;34m\u001b[0m\u001b[0;34m\u001b[0m\u001b[0m\n\u001b[0m\u001b[1;32m    520\u001b[0m             \u001b[0;32mif\u001b[0m \u001b[0mis_child\u001b[0m\u001b[0;34m:\u001b[0m\u001b[0;34m\u001b[0m\u001b[0;34m\u001b[0m\u001b[0m\n\u001b[1;32m    521\u001b[0m                 \u001b[0;31m# mp.Pool cannot be trusted to flush promptly (or ever),\u001b[0m\u001b[0;34m\u001b[0m\u001b[0;34m\u001b[0m\u001b[0;34m\u001b[0m\u001b[0m\n",
      "\u001b[0;32m~/anaconda3/envs/Pointnet_Pointnet2_pytorch/lib/python3.7/site-packages/ipykernel/iostream.py\u001b[0m in \u001b[0;36mschedule\u001b[0;34m(self, f)\u001b[0m\n\u001b[1;32m    212\u001b[0m             \u001b[0mself\u001b[0m\u001b[0;34m.\u001b[0m\u001b[0m_events\u001b[0m\u001b[0;34m.\u001b[0m\u001b[0mappend\u001b[0m\u001b[0;34m(\u001b[0m\u001b[0mf\u001b[0m\u001b[0;34m)\u001b[0m\u001b[0;34m\u001b[0m\u001b[0;34m\u001b[0m\u001b[0m\n\u001b[1;32m    213\u001b[0m             \u001b[0;31m# wake event thread (message content is ignored)\u001b[0m\u001b[0;34m\u001b[0m\u001b[0;34m\u001b[0m\u001b[0;34m\u001b[0m\u001b[0m\n\u001b[0;32m--> 214\u001b[0;31m             \u001b[0mself\u001b[0m\u001b[0;34m.\u001b[0m\u001b[0m_event_pipe\u001b[0m\u001b[0;34m.\u001b[0m\u001b[0msend\u001b[0m\u001b[0;34m(\u001b[0m\u001b[0;34mb''\u001b[0m\u001b[0;34m)\u001b[0m\u001b[0;34m\u001b[0m\u001b[0;34m\u001b[0m\u001b[0m\n\u001b[0m\u001b[1;32m    215\u001b[0m         \u001b[0;32melse\u001b[0m\u001b[0;34m:\u001b[0m\u001b[0;34m\u001b[0m\u001b[0;34m\u001b[0m\u001b[0m\n\u001b[1;32m    216\u001b[0m             \u001b[0mf\u001b[0m\u001b[0;34m(\u001b[0m\u001b[0;34m)\u001b[0m\u001b[0;34m\u001b[0m\u001b[0;34m\u001b[0m\u001b[0m\n",
      "\u001b[0;32m~/anaconda3/envs/Pointnet_Pointnet2_pytorch/lib/python3.7/site-packages/zmq/sugar/socket.py\u001b[0m in \u001b[0;36msend\u001b[0;34m(self, data, flags, copy, track, routing_id, group)\u001b[0m\n\u001b[1;32m    503\u001b[0m                 )\n\u001b[1;32m    504\u001b[0m             \u001b[0mdata\u001b[0m\u001b[0;34m.\u001b[0m\u001b[0mgroup\u001b[0m \u001b[0;34m=\u001b[0m \u001b[0mgroup\u001b[0m\u001b[0;34m\u001b[0m\u001b[0;34m\u001b[0m\u001b[0m\n\u001b[0;32m--> 505\u001b[0;31m         \u001b[0;32mreturn\u001b[0m \u001b[0msuper\u001b[0m\u001b[0;34m(\u001b[0m\u001b[0mSocket\u001b[0m\u001b[0;34m,\u001b[0m \u001b[0mself\u001b[0m\u001b[0;34m)\u001b[0m\u001b[0;34m.\u001b[0m\u001b[0msend\u001b[0m\u001b[0;34m(\u001b[0m\u001b[0mdata\u001b[0m\u001b[0;34m,\u001b[0m \u001b[0mflags\u001b[0m\u001b[0;34m=\u001b[0m\u001b[0mflags\u001b[0m\u001b[0;34m,\u001b[0m \u001b[0mcopy\u001b[0m\u001b[0;34m=\u001b[0m\u001b[0mcopy\u001b[0m\u001b[0;34m,\u001b[0m \u001b[0mtrack\u001b[0m\u001b[0;34m=\u001b[0m\u001b[0mtrack\u001b[0m\u001b[0;34m)\u001b[0m\u001b[0;34m\u001b[0m\u001b[0;34m\u001b[0m\u001b[0m\n\u001b[0m\u001b[1;32m    506\u001b[0m \u001b[0;34m\u001b[0m\u001b[0m\n\u001b[1;32m    507\u001b[0m     \u001b[0;32mdef\u001b[0m \u001b[0msend_multipart\u001b[0m\u001b[0;34m(\u001b[0m\u001b[0mself\u001b[0m\u001b[0;34m,\u001b[0m \u001b[0mmsg_parts\u001b[0m\u001b[0;34m,\u001b[0m \u001b[0mflags\u001b[0m\u001b[0;34m=\u001b[0m\u001b[0;36m0\u001b[0m\u001b[0;34m,\u001b[0m \u001b[0mcopy\u001b[0m\u001b[0;34m=\u001b[0m\u001b[0;32mTrue\u001b[0m\u001b[0;34m,\u001b[0m \u001b[0mtrack\u001b[0m\u001b[0;34m=\u001b[0m\u001b[0;32mFalse\u001b[0m\u001b[0;34m,\u001b[0m \u001b[0;34m**\u001b[0m\u001b[0mkwargs\u001b[0m\u001b[0;34m)\u001b[0m\u001b[0;34m:\u001b[0m\u001b[0;34m\u001b[0m\u001b[0;34m\u001b[0m\u001b[0m\n",
      "\u001b[0;32mzmq/backend/cython/socket.pyx\u001b[0m in \u001b[0;36mzmq.backend.cython.socket.Socket.send\u001b[0;34m()\u001b[0m\n",
      "\u001b[0;32mzmq/backend/cython/socket.pyx\u001b[0m in \u001b[0;36mzmq.backend.cython.socket.Socket.send\u001b[0;34m()\u001b[0m\n",
      "\u001b[0;32mzmq/backend/cython/socket.pyx\u001b[0m in \u001b[0;36mzmq.backend.cython.socket._send_copy\u001b[0;34m()\u001b[0m\n",
      "\u001b[0;32m~/anaconda3/envs/Pointnet_Pointnet2_pytorch/lib/python3.7/site-packages/zmq/backend/cython/checkrc.pxd\u001b[0m in \u001b[0;36mzmq.backend.cython.checkrc._check_rc\u001b[0;34m()\u001b[0m\n",
      "\u001b[0;31mKeyboardInterrupt\u001b[0m: "
     ]
    }
   ],
   "source": [
    "penalty_factor = 0.9\n",
    "for i, idx in enumerate(variance_ordering_idxs):\n",
    "    point = points[idx]\n",
    "    current_point_cluster = kmeans.labels_[idx]\n",
    "    adjustment_idxs = np.where(kmeans.labels_ == current_point_cluster)[0]\n",
    "    adjustment_idxs = np.delete(adjustment_idxs, np.where(adjustment_idxs <= i))\n",
    "    for x in range(i, len(variance_ordering_idxs)):\n",
    "        if kmeans.labels_[x] == current_point_cluster:\n",
    "            adjustment_idxs\n",
    "    variance[np.where(kmeans.labels_ == current_point_cluster)] *= penalty_factor\n",
    "    \n",
    "\n",
    "print(f\"Old variance_ordering_idxs:\\n{variance_ordering_idxs[:10]}\")\n",
    "variance_ordering_idxs = variance.argsort()[::-1]\n",
    "print(f\"New variance_ordering_idxs:\\n{variance_ordering_idxs[:10]}\")\n",
    "for idx in variance_ordering_idxs:\n",
    "    print(f\"Idx {idx}, Cluster {kmeans.labels_[idx]},  variance {variance[idx].round(2)}: {points[idx]}\")\n",
    "    "
   ]
  },
  {
   "cell_type": "code",
   "execution_count": 38,
   "metadata": {},
   "outputs": [
    {
     "name": "stdout",
     "output_type": "stream",
     "text": [
      "Cluster 2,  variance 0.54: [80.22 27.65]\n",
      "Cluster 0,  variance 0.52: [90.02 54.94]\n",
      "Cluster 0,  variance 0.44: [67.98 75.63]\n"
     ]
    },
    {
     "data": {
      "image/png": "[encoded data removed]",
      "text/plain": [
       "<Figure size 432x288 with 1 Axes>"
      ]
     },
     "metadata": {
      "needs_background": "light"
     },
     "output_type": "display_data"
    }
   ],
   "source": [
    "# plot points coloured by cluster and label the top 10 variances\n",
    "plt.scatter(points[:,0], points[:,1], c=kmeans.labels_)\n",
    "# Label the top 10 variances\n",
    "for idx in variance_ordering_idxs[:kmeans.n_clusters]:\n",
    "    plt.annotate(variance[idx].round(2), (points[idx,0], points[idx,1]))\n",
    "    print(f\"Cluster {kmeans.labels_[idx]},  variance {variance[idx].round(2)}: {points[idx]}\")"
   ]
  }
 ],
 "metadata": {
  "interpreter": {
   "hash": "a2eaba42d29a280ba64e1fd1d620a9d7d92fed1efadd6147bd608a3b99f369c9"
  },
  "kernelspec": {
   "display_name": "Python 3.7.10 64-bit ('Pointnet_Pointnet2_pytorch': conda)",
   "language": "python",
   "name": "python3"
  },
  "language_info": {
   "codemirror_mode": {
    "name": "ipython",
    "version": 3
   },
   "file_extension": ".py",
   "mimetype": "text/x-python",
   "name": "python",
   "nbconvert_exporter": "python",
   "pygments_lexer": "ipython3",
   "version": "3.7.10"
  }
 },
 "nbformat": 4,
 "nbformat_minor": 0
}
