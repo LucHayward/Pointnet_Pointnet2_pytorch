{
 "cells": [
  {
   "cell_type": "code",
   "execution_count": 1,
   "metadata": {
    "collapsed": true,
    "ExecuteTime": {
     "end_time": "2023-05-13T17:13:23.178339823Z",
     "start_time": "2023-05-13T17:13:20.699366412Z"
    }
   },
   "outputs": [],
   "source": [
    "import random\n",
    "\n",
    "from joblib import Parallel, delayed\n",
    "from time import sleep\n",
    "\n",
    "import time\n",
    "# import pptk\n",
    "from pathlib import Path\n",
    "from pprint import pformat\n",
    "\n",
    "import numpy as np\n",
    "import torch.utils.data\n",
    "import wandb\n",
    "from joblib import dump, load\n",
    "# from line_profiler_pycharm import profile\n",
    "from sklearn.ensemble import RandomForestClassifier\n",
    "from sklearn.metrics import f1_score, accuracy_score, precision_score, recall_score, confusion_matrix, jaccard_score\n",
    "from tqdm import tqdm\n",
    "\n",
    "from data_utils.MastersDataset import MastersDataset\n",
    "from train_masters import setup_logging_dir, setup_logger, setup_wandb_classification_metrics, _log_string"
   ]
  },
  {
   "cell_type": "code",
   "execution_count": 2,
   "outputs": [],
   "source": [
    "import random\n",
    "np.random.seed(0)\n",
    "torch.manual_seed(0)\n",
    "torch.cuda.manual_seed_all(0)\n",
    "random.seed(0)"
   ],
   "metadata": {
    "collapsed": false,
    "ExecuteTime": {
     "end_time": "2023-05-13T17:13:23.185477266Z",
     "start_time": "2023-05-13T17:13:23.181860275Z"
    }
   }
  },
  {
   "cell_type": "code",
   "execution_count": 3,
   "outputs": [],
   "source": [
    "def load(path):\n",
    "    s = time.time()\n",
    "    # Setup training/validation data\n",
    "    TRAIN_DATASET = MastersDataset('train', Path(path), sample_all_points=True)\n",
    "    VAL_DATASET = MastersDataset('validate', Path(path),\n",
    "                                 sample_all_points=True)\n",
    "    # val_data_loader = torch.utils.data.DataLoader(VAL_DATASET, batch_size=1, shuffle=False, num_workers=0)\n",
    "    # CHECK might need to undo this to make getting the variance back easier\n",
    "    # X_train, y_train = TRAIN_DATASET.segment_points[0], TRAIN_DATASET.segment_labels[0]\n",
    "    X_val, y_val = VAL_DATASET.segment_points[0], VAL_DATASET.segment_labels[0]\n",
    "    print(time.time()-s)\n",
    "    return VAL_DATASET"
   ],
   "metadata": {
    "collapsed": false,
    "ExecuteTime": {
     "end_time": "2023-05-13T17:13:23.205695233Z",
     "start_time": "2023-05-13T17:13:23.187141634Z"
    }
   }
  },
  {
   "cell_type": "code",
   "execution_count": 4,
   "outputs": [],
   "source": [
    "# seq_v = load(\"/home/luc/PycharmProjects/Pointnet_Pointnet2_pytorch/data/PatrickData/Bagni_Nerone/2.5%\")\n",
    "# 3248,"
   ],
   "metadata": {
    "collapsed": false,
    "ExecuteTime": {
     "end_time": "2023-05-12T09:59:13.769961877Z",
     "start_time": "2023-05-12T09:59:13.755751532Z"
    }
   }
  },
  {
   "cell_type": "code",
   "execution_count": null,
   "outputs": [
    {
     "name": "stderr",
     "output_type": "stream",
     "text": [
      "100%|██████████| 1/1 [00:00<00:00, 13.54it/s]\n"
     ]
    },
    {
     "name": "stdout",
     "output_type": "stream",
     "text": [
      "Sorting by x axis...0.15s\n"
     ]
    },
    {
     "name": "stderr",
     "output_type": "stream",
     "text": [
      "split y-axis: 100%|██████████| 120/120 [00:00<00:00, 399.51it/s]\n",
      "Fill batches:   0%|          | 0/232 [00:00<?, ?it/s][Parallel(n_jobs=-1)]: Using backend LokyBackend with 4 concurrent workers.\n",
      "[Parallel(n_jobs=-1)]: Done   2 tasks      | elapsed:    0.4s\n",
      "Fill batches: 100%|██████████| 232/232 [00:00<00:00, 491.87it/s]\n",
      "[Parallel(n_jobs=-1)]: Done   8 tasks      | elapsed:    0.5s\n",
      "[Parallel(n_jobs=-1)]: Done  33 tasks      | elapsed:    0.5s\n",
      "[Parallel(n_jobs=-1)]: Done  58 tasks      | elapsed:    0.5s\n",
      "[Parallel(n_jobs=-1)]: Done  93 tasks      | elapsed:    0.6s\n",
      "[Parallel(n_jobs=-1)]: Done 128 tasks      | elapsed:    0.6s\n",
      "[Parallel(n_jobs=-1)]: Done 173 tasks      | elapsed:    0.7s\n",
      "[Parallel(n_jobs=-1)]: Done 218 tasks      | elapsed:    0.7s\n",
      "[Parallel(n_jobs=-1)]: Done 232 out of 232 | elapsed:    0.7s finished\n",
      "100%|██████████| 1/1 [00:02<00:00,  2.52s/it]\n"
     ]
    },
    {
     "name": "stdout",
     "output_type": "stream",
     "text": [
      "Sorting by x axis...8.35s\n"
     ]
    },
    {
     "name": "stderr",
     "output_type": "stream",
     "text": [
      "split y-axis: 100%|██████████| 238/238 [00:09<00:00, 24.82it/s] \n"
     ]
    }
   ],
   "source": [
    "par_v = load(\"/home/luc/PycharmProjects/Pointnet_Pointnet2_pytorch/data/PatrickData/Piazza/2.5%\")"
   ],
   "metadata": {
    "collapsed": false,
    "is_executing": true,
    "ExecuteTime": {
     "start_time": "2023-05-12T09:59:13.760914127Z"
    }
   }
  },
  {
   "cell_type": "code",
   "execution_count": 3,
   "outputs": [],
   "source": [],
   "metadata": {
    "collapsed": false,
    "ExecuteTime": {
     "end_time": "2023-05-13T17:13:27.474526403Z",
     "start_time": "2023-05-13T17:13:27.462994209Z"
    }
   }
  },
  {
   "cell_type": "code",
   "execution_count": 4,
   "outputs": [
    {
     "name": "stderr",
     "output_type": "stream",
     "text": [
      "100%|██████████| 1/1 [00:00<00:00, 48.04it/s]\n",
      "split y-axis: 100%|██████████| 27/27 [00:00<00:00, 360.48it/s]\n",
      "Fill batches:   0%|          | 0/121 [00:00<?, ?it/s]"
     ]
    },
    {
     "name": "stdout",
     "output_type": "stream",
     "text": [
      "Sorting by x axis...0.05s\n"
     ]
    },
    {
     "name": "stderr",
     "output_type": "stream",
     "text": [
      "[Parallel(n_jobs=-1)]: Using backend LokyBackend with 4 concurrent workers.\n",
      "[Parallel(n_jobs=-1)]: Done   2 tasks      | elapsed:    0.6s\n",
      "Fill batches: 100%|██████████| 121/121 [00:00<00:00, 204.63it/s]\n",
      "[Parallel(n_jobs=-1)]: Done   8 tasks      | elapsed:    0.6s\n",
      "[Parallel(n_jobs=-1)]: Done  18 tasks      | elapsed:    0.7s\n",
      "[Parallel(n_jobs=-1)]: Done  28 tasks      | elapsed:    0.7s\n",
      "[Parallel(n_jobs=-1)]: Done  42 tasks      | elapsed:    0.7s\n",
      "[Parallel(n_jobs=-1)]: Done  56 tasks      | elapsed:    0.8s\n",
      "[Parallel(n_jobs=-1)]: Done  74 tasks      | elapsed:    0.8s\n",
      "[Parallel(n_jobs=-1)]: Done  92 tasks      | elapsed:    0.8s\n",
      "[Parallel(n_jobs=-1)]: Done 114 tasks      | elapsed:    0.9s\n",
      "[Parallel(n_jobs=-1)]: Done 121 out of 121 | elapsed:    0.9s finished\n",
      "100%|██████████| 1/1 [00:00<00:00,  1.49it/s]\n"
     ]
    },
    {
     "name": "stdout",
     "output_type": "stream",
     "text": [
      "Sorting by x axis...2.53s\n"
     ]
    },
    {
     "name": "stderr",
     "output_type": "stream",
     "text": [
      "split y-axis: 100%|██████████| 110/110 [00:03<00:00, 34.67it/s]\n",
      "Fill batches:   0%|          | 0/2694 [00:00<?, ?it/s][Parallel(n_jobs=-1)]: Using backend LokyBackend with 4 concurrent workers.\n",
      "[Parallel(n_jobs=-1)]: Done   2 tasks      | elapsed:    0.2s\n",
      "Fill batches:   0%|          | 8/2694 [00:00<01:05, 40.85it/s][Parallel(n_jobs=-1)]: Done   8 tasks      | elapsed:    0.2s\n",
      "Fill batches:  38%|███▊      | 1032/2694 [00:03<00:05, 285.08it/s][Parallel(n_jobs=-1)]: Done 1288 tasks      | elapsed:    7.6s\n",
      "Fill batches: 100%|██████████| 2694/2694 [00:07<00:00, 354.32it/s]\n",
      "[Parallel(n_jobs=-1)]: Done 2086 tasks      | elapsed:    8.3s\n",
      "[Parallel(n_jobs=-1)]: Done 2191 tasks      | elapsed:    8.6s\n",
      "[Parallel(n_jobs=-1)]: Done 2296 tasks      | elapsed:    9.1s\n",
      "[Parallel(n_jobs=-1)]: Done 2431 tasks      | elapsed:    9.7s\n",
      "[Parallel(n_jobs=-1)]: Done 2566 tasks      | elapsed:   10.2s\n",
      "[Parallel(n_jobs=-1)]: Done 2694 out of 2694 | elapsed:   10.8s finished\n"
     ]
    },
    {
     "name": "stdout",
     "output_type": "stream",
     "text": [
      "39.07974982261658\n"
     ]
    },
    {
     "data": {
      "text/plain": "<data_utils.MastersDataset.MastersDataset at 0x7ff968048810>"
     },
     "execution_count": 4,
     "metadata": {},
     "output_type": "execute_result"
    }
   ],
   "source": [
    "load(\"/home/luc/PycharmProjects/Pointnet_Pointnet2_pytorch/data/PatrickData/Bagni_Nerone/2.5%\")"
   ],
   "metadata": {
    "collapsed": false,
    "ExecuteTime": {
     "end_time": "2023-05-13T17:14:07.455224882Z",
     "start_time": "2023-05-13T17:13:28.352902336Z"
    }
   }
  },
  {
   "cell_type": "code",
   "execution_count": 5,
   "outputs": [
    {
     "name": "stderr",
     "output_type": "stream",
     "text": [
      "100%|██████████| 1/1 [00:00<00:00, 24.58it/s]\n",
      "split y-axis:   0%|          | 0/45 [00:00<?, ?it/s]"
     ]
    },
    {
     "name": "stdout",
     "output_type": "stream",
     "text": [
      "Sorting by x axis...0.12s\n"
     ]
    },
    {
     "name": "stderr",
     "output_type": "stream",
     "text": [
      "split y-axis: 100%|██████████| 45/45 [00:00<00:00, 259.52it/s]\n",
      "Fill batches:   0%|          | 0/221 [00:00<?, ?it/s][Parallel(n_jobs=-1)]: Using backend LokyBackend with 4 concurrent workers.\n",
      "[Parallel(n_jobs=-1)]: Done   2 tasks      | elapsed:    0.0s\n",
      "Fill batches: 100%|██████████| 221/221 [00:00<00:00, 12124.80it/s]\n",
      "[Parallel(n_jobs=-1)]: Done   8 tasks      | elapsed:    0.0s\n",
      "[Parallel(n_jobs=-1)]: Done  33 tasks      | elapsed:    0.1s\n",
      "[Parallel(n_jobs=-1)]: Done  58 tasks      | elapsed:    0.1s\n",
      "[Parallel(n_jobs=-1)]: Done  93 tasks      | elapsed:    0.2s\n",
      "[Parallel(n_jobs=-1)]: Done 128 tasks      | elapsed:    0.2s\n",
      "[Parallel(n_jobs=-1)]: Done 173 tasks      | elapsed:    0.3s\n",
      "[Parallel(n_jobs=-1)]: Done 221 out of 221 | elapsed:    0.4s finished\n",
      "100%|██████████| 1/1 [00:01<00:00,  1.63s/it]\n"
     ]
    },
    {
     "name": "stdout",
     "output_type": "stream",
     "text": [
      "Sorting by x axis...2.47s\n"
     ]
    },
    {
     "name": "stderr",
     "output_type": "stream",
     "text": [
      "split y-axis: 100%|██████████| 110/110 [00:03<00:00, 36.40it/s]\n",
      "Fill batches:   0%|          | 0/2634 [00:00<?, ?it/s][Parallel(n_jobs=-1)]: Using backend LokyBackend with 4 concurrent workers.\n",
      "[Parallel(n_jobs=-1)]: Done   2 tasks      | elapsed:    0.2s\n",
      "Fill batches:   0%|          | 8/2634 [00:00<00:53, 48.90it/s][Parallel(n_jobs=-1)]: Done   8 tasks      | elapsed:    0.2s\n",
      "Fill batches:  39%|███▉      | 1032/2634 [00:03<00:05, 284.21it/s][Parallel(n_jobs=-1)]: Done 1288 tasks      | elapsed:    6.7s\n",
      "Fill batches: 100%|██████████| 2634/2634 [00:06<00:00, 392.75it/s]\n",
      "[Parallel(n_jobs=-1)]: Done 1842 tasks      | elapsed:    7.3s\n",
      "[Parallel(n_jobs=-1)]: Done 2182 tasks      | elapsed:    7.7s\n",
      "[Parallel(n_jobs=-1)]: Done 2280 tasks      | elapsed:    8.0s\n",
      "[Parallel(n_jobs=-1)]: Done 2406 tasks      | elapsed:    8.5s\n",
      "[Parallel(n_jobs=-1)]: Done 2532 tasks      | elapsed:    9.0s\n",
      "[Parallel(n_jobs=-1)]: Done 2634 out of 2634 | elapsed:    9.4s finished\n"
     ]
    },
    {
     "name": "stdout",
     "output_type": "stream",
     "text": [
      "38.708855390548706\n"
     ]
    },
    {
     "data": {
      "text/plain": "<data_utils.MastersDataset.MastersDataset at 0x7ff967f4f850>"
     },
     "execution_count": 5,
     "metadata": {},
     "output_type": "execute_result"
    }
   ],
   "source": [
    "load(\"/home/luc/PycharmProjects/Pointnet_Pointnet2_pytorch/data/PatrickData/Bagni_Nerone/5%\")"
   ],
   "metadata": {
    "collapsed": false,
    "ExecuteTime": {
     "end_time": "2023-05-13T17:14:46.161885646Z",
     "start_time": "2023-05-13T17:14:07.453076322Z"
    }
   }
  },
  {
   "cell_type": "code",
   "execution_count": null,
   "outputs": [],
   "source": [
    "load(\"/home/luc/PycharmProjects/Pointnet_Pointnet2_pytorch/data/PatrickData/Church/2.5%\")"
   ],
   "metadata": {
    "collapsed": false
   }
  },
  {
   "cell_type": "code",
   "execution_count": null,
   "outputs": [],
   "source": [
    "load(\"/home/luc/PycharmProjects/Pointnet_Pointnet2_pytorch/data/PatrickData/Church/5%\")"
   ],
   "metadata": {
    "collapsed": false
   }
  },
  {
   "cell_type": "code",
   "execution_count": null,
   "outputs": [],
   "source": [
    "load(\"/home/luc/PycharmProjects/Pointnet_Pointnet2_pytorch/data/PatrickData/Lunnahoja/5%\")"
   ],
   "metadata": {
    "collapsed": false
   }
  },
  {
   "cell_type": "code",
   "execution_count": null,
   "outputs": [],
   "source": [
    "load(\"/home/luc/PycharmProjects/Pointnet_Pointnet2_pytorch/data/PatrickData/Lunnahoja/5%\")"
   ],
   "metadata": {
    "collapsed": false
   }
  },
  {
   "cell_type": "code",
   "execution_count": null,
   "outputs": [],
   "source": [
    "load(\"/home/luc/PycharmProjects/Pointnet_Pointnet2_pytorch/data/PatrickData/Montelupo/5%\")"
   ],
   "metadata": {
    "collapsed": false
   }
  },
  {
   "cell_type": "code",
   "execution_count": null,
   "outputs": [],
   "source": [
    "load(\"/home/luc/PycharmProjects/Pointnet_Pointnet2_pytorch/data/PatrickData/Montelupo/5%\")"
   ],
   "metadata": {
    "collapsed": false
   }
  },
  {
   "cell_type": "code",
   "execution_count": null,
   "outputs": [],
   "source": [
    "load(\"/home/luc/PycharmProjects/Pointnet_Pointnet2_pytorch/data/PatrickData/Monument/5%\")"
   ],
   "metadata": {
    "collapsed": false
   }
  },
  {
   "cell_type": "code",
   "execution_count": null,
   "outputs": [],
   "source": [
    "load(\"/home/luc/PycharmProjects/Pointnet_Pointnet2_pytorch/data/PatrickData/Monument/5%\")"
   ],
   "metadata": {
    "collapsed": false
   }
  },
  {
   "cell_type": "code",
   "execution_count": null,
   "outputs": [],
   "source": [
    "load(\"/home/luc/PycharmProjects/Pointnet_Pointnet2_pytorch/data/PatrickData/Piazza/5%\")"
   ],
   "metadata": {
    "collapsed": false
   }
  },
  {
   "cell_type": "code",
   "execution_count": null,
   "outputs": [],
   "source": [
    "load(\"/home/luc/PycharmProjects/Pointnet_Pointnet2_pytorch/data/PatrickData/Piazza/5%\")"
   ],
   "metadata": {
    "collapsed": false
   }
  }
 ],
 "metadata": {
  "kernelspec": {
   "display_name": "Python 3",
   "language": "python",
   "name": "python3"
  },
  "language_info": {
   "codemirror_mode": {
    "name": "ipython",
    "version": 2
   },
   "file_extension": ".py",
   "mimetype": "text/x-python",
   "name": "python",
   "nbconvert_exporter": "python",
   "pygments_lexer": "ipython2",
   "version": "2.7.6"
  }
 },
 "nbformat": 4,
 "nbformat_minor": 0
}
