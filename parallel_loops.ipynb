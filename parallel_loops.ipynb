{
 "cells": [
  {
   "cell_type": "code",
   "execution_count": 1,
   "metadata": {
    "collapsed": true,
    "ExecuteTime": {
     "end_time": "2023-05-13T17:50:04.479424320Z",
     "start_time": "2023-05-13T17:50:02.033554777Z"
    }
   },
   "outputs": [],
   "source": [
    "import random\n",
    "\n",
    "from joblib import Parallel, delayed\n",
    "from time import sleep\n",
    "\n",
    "import time\n",
    "# import pptk\n",
    "from pathlib import Path\n",
    "from pprint import pformat\n",
    "\n",
    "import numpy as np\n",
    "import torch.utils.data\n",
    "import wandb\n",
    "from joblib import dump, load\n",
    "# from line_profiler_pycharm import profile\n",
    "from sklearn.ensemble import RandomForestClassifier\n",
    "from sklearn.metrics import f1_score, accuracy_score, precision_score, recall_score, confusion_matrix, jaccard_score\n",
    "from tqdm import tqdm\n",
    "\n",
    "from data_utils.MastersDataset import MastersDataset\n",
    "from train_masters import setup_logging_dir, setup_logger, setup_wandb_classification_metrics, _log_string"
   ]
  },
  {
   "cell_type": "code",
   "execution_count": 2,
   "outputs": [],
   "source": [
    "import random\n",
    "np.random.seed(0)\n",
    "torch.manual_seed(0)\n",
    "torch.cuda.manual_seed_all(0)\n",
    "random.seed(0)"
   ],
   "metadata": {
    "collapsed": false,
    "ExecuteTime": {
     "end_time": "2023-05-13T17:50:04.487681977Z",
     "start_time": "2023-05-13T17:50:04.478484245Z"
    }
   }
  },
  {
   "cell_type": "code",
   "execution_count": 3,
   "outputs": [],
   "source": [
    "def load(path):\n",
    "    s = time.time()\n",
    "    # Setup training/validation data\n",
    "    TRAIN_DATASET = MastersDataset('train', Path(path), sample_all_points=True)\n",
    "    VAL_DATASET = MastersDataset('validate', Path(path),\n",
    "                                 sample_all_points=True)\n",
    "    # val_data_loader = torch.utils.data.DataLoader(VAL_DATASET, batch_size=1, shuffle=False, num_workers=0)\n",
    "    # CHECK might need to undo this to make getting the variance back easier\n",
    "    # X_train, y_train = TRAIN_DATASET.segment_points[0], TRAIN_DATASET.segment_labels[0]\n",
    "    X_val, y_val = VAL_DATASET.segment_points[0], VAL_DATASET.segment_labels[0]\n",
    "    print(time.time()-s)\n",
    "    return VAL_DATASET"
   ],
   "metadata": {
    "collapsed": false,
    "ExecuteTime": {
     "end_time": "2023-05-13T17:50:04.492606537Z",
     "start_time": "2023-05-13T17:50:04.487370683Z"
    }
   }
  },
  {
   "cell_type": "code",
   "execution_count": 4,
   "outputs": [],
   "source": [
    "# seq_v = load(\"/home/luc/PycharmProjects/Pointnet_Pointnet2_pytorch/data/PatrickData/Bagni_Nerone/2.5%\")\n",
    "# 3248,"
   ],
   "metadata": {
    "collapsed": false,
    "ExecuteTime": {
     "end_time": "2023-05-12T09:59:13.769961877Z",
     "start_time": "2023-05-12T09:59:13.755751532Z"
    }
   }
  },
  {
   "cell_type": "code",
   "execution_count": null,
   "outputs": [
    {
     "name": "stderr",
     "output_type": "stream",
     "text": [
      "100%|██████████| 1/1 [00:00<00:00, 13.54it/s]\n"
     ]
    },
    {
     "name": "stdout",
     "output_type": "stream",
     "text": [
      "Sorting by x axis...0.15s\n"
     ]
    },
    {
     "name": "stderr",
     "output_type": "stream",
     "text": [
      "split y-axis: 100%|██████████| 120/120 [00:00<00:00, 399.51it/s]\n",
      "Fill batches:   0%|          | 0/232 [00:00<?, ?it/s][Parallel(n_jobs=-1)]: Using backend LokyBackend with 4 concurrent workers.\n",
      "[Parallel(n_jobs=-1)]: Done   2 tasks      | elapsed:    0.4s\n",
      "Fill batches: 100%|██████████| 232/232 [00:00<00:00, 491.87it/s]\n",
      "[Parallel(n_jobs=-1)]: Done   8 tasks      | elapsed:    0.5s\n",
      "[Parallel(n_jobs=-1)]: Done  33 tasks      | elapsed:    0.5s\n",
      "[Parallel(n_jobs=-1)]: Done  58 tasks      | elapsed:    0.5s\n",
      "[Parallel(n_jobs=-1)]: Done  93 tasks      | elapsed:    0.6s\n",
      "[Parallel(n_jobs=-1)]: Done 128 tasks      | elapsed:    0.6s\n",
      "[Parallel(n_jobs=-1)]: Done 173 tasks      | elapsed:    0.7s\n",
      "[Parallel(n_jobs=-1)]: Done 218 tasks      | elapsed:    0.7s\n",
      "[Parallel(n_jobs=-1)]: Done 232 out of 232 | elapsed:    0.7s finished\n",
      "100%|██████████| 1/1 [00:02<00:00,  2.52s/it]\n"
     ]
    },
    {
     "name": "stdout",
     "output_type": "stream",
     "text": [
      "Sorting by x axis...8.35s\n"
     ]
    },
    {
     "name": "stderr",
     "output_type": "stream",
     "text": [
      "split y-axis: 100%|██████████| 238/238 [00:09<00:00, 24.82it/s] \n"
     ]
    }
   ],
   "source": [
    "par_v = load(\"/home/luc/PycharmProjects/Pointnet_Pointnet2_pytorch/data/PatrickData/Piazza/2.5%\")"
   ],
   "metadata": {
    "collapsed": false,
    "ExecuteTime": {
     "start_time": "2023-05-12T09:59:13.760914127Z"
    }
   }
  },
  {
   "cell_type": "code",
   "execution_count": 3,
   "outputs": [],
   "source": [],
   "metadata": {
    "collapsed": false,
    "ExecuteTime": {
     "end_time": "2023-05-13T17:13:27.474526403Z",
     "start_time": "2023-05-13T17:13:27.462994209Z"
    }
   }
  },
  {
   "cell_type": "code",
   "execution_count": 4,
   "outputs": [
    {
     "name": "stderr",
     "output_type": "stream",
     "text": [
      "100%|██████████| 1/1 [00:00<00:00, 48.04it/s]\n",
      "split y-axis: 100%|██████████| 27/27 [00:00<00:00, 360.48it/s]\n",
      "Fill batches:   0%|          | 0/121 [00:00<?, ?it/s]"
     ]
    },
    {
     "name": "stdout",
     "output_type": "stream",
     "text": [
      "Sorting by x axis...0.05s\n"
     ]
    },
    {
     "name": "stderr",
     "output_type": "stream",
     "text": [
      "[Parallel(n_jobs=-1)]: Using backend LokyBackend with 4 concurrent workers.\n",
      "[Parallel(n_jobs=-1)]: Done   2 tasks      | elapsed:    0.6s\n",
      "Fill batches: 100%|██████████| 121/121 [00:00<00:00, 204.63it/s]\n",
      "[Parallel(n_jobs=-1)]: Done   8 tasks      | elapsed:    0.6s\n",
      "[Parallel(n_jobs=-1)]: Done  18 tasks      | elapsed:    0.7s\n",
      "[Parallel(n_jobs=-1)]: Done  28 tasks      | elapsed:    0.7s\n",
      "[Parallel(n_jobs=-1)]: Done  42 tasks      | elapsed:    0.7s\n",
      "[Parallel(n_jobs=-1)]: Done  56 tasks      | elapsed:    0.8s\n",
      "[Parallel(n_jobs=-1)]: Done  74 tasks      | elapsed:    0.8s\n",
      "[Parallel(n_jobs=-1)]: Done  92 tasks      | elapsed:    0.8s\n",
      "[Parallel(n_jobs=-1)]: Done 114 tasks      | elapsed:    0.9s\n",
      "[Parallel(n_jobs=-1)]: Done 121 out of 121 | elapsed:    0.9s finished\n",
      "100%|██████████| 1/1 [00:00<00:00,  1.49it/s]\n"
     ]
    },
    {
     "name": "stdout",
     "output_type": "stream",
     "text": [
      "Sorting by x axis...2.53s\n"
     ]
    },
    {
     "name": "stderr",
     "output_type": "stream",
     "text": [
      "split y-axis: 100%|██████████| 110/110 [00:03<00:00, 34.67it/s]\n",
      "Fill batches:   0%|          | 0/2694 [00:00<?, ?it/s][Parallel(n_jobs=-1)]: Using backend LokyBackend with 4 concurrent workers.\n",
      "[Parallel(n_jobs=-1)]: Done   2 tasks      | elapsed:    0.2s\n",
      "Fill batches:   0%|          | 8/2694 [00:00<01:05, 40.85it/s][Parallel(n_jobs=-1)]: Done   8 tasks      | elapsed:    0.2s\n",
      "Fill batches:  38%|███▊      | 1032/2694 [00:03<00:05, 285.08it/s][Parallel(n_jobs=-1)]: Done 1288 tasks      | elapsed:    7.6s\n",
      "Fill batches: 100%|██████████| 2694/2694 [00:07<00:00, 354.32it/s]\n",
      "[Parallel(n_jobs=-1)]: Done 2086 tasks      | elapsed:    8.3s\n",
      "[Parallel(n_jobs=-1)]: Done 2191 tasks      | elapsed:    8.6s\n",
      "[Parallel(n_jobs=-1)]: Done 2296 tasks      | elapsed:    9.1s\n",
      "[Parallel(n_jobs=-1)]: Done 2431 tasks      | elapsed:    9.7s\n",
      "[Parallel(n_jobs=-1)]: Done 2566 tasks      | elapsed:   10.2s\n",
      "[Parallel(n_jobs=-1)]: Done 2694 out of 2694 | elapsed:   10.8s finished\n"
     ]
    },
    {
     "name": "stdout",
     "output_type": "stream",
     "text": [
      "39.07974982261658\n"
     ]
    },
    {
     "data": {
      "text/plain": "<data_utils.MastersDataset.MastersDataset at 0x7ff968048810>"
     },
     "execution_count": 4,
     "metadata": {},
     "output_type": "execute_result"
    }
   ],
   "source": [
    "load(\"/home/luc/PycharmProjects/Pointnet_Pointnet2_pytorch/data/PatrickData/Bagni_Nerone/2.5%\")"
   ],
   "metadata": {
    "collapsed": false,
    "ExecuteTime": {
     "end_time": "2023-05-13T17:14:07.455224882Z",
     "start_time": "2023-05-13T17:13:28.352902336Z"
    }
   }
  },
  {
   "cell_type": "code",
   "execution_count": 5,
   "outputs": [
    {
     "name": "stderr",
     "output_type": "stream",
     "text": [
      "100%|██████████| 1/1 [00:00<00:00, 24.58it/s]\n",
      "split y-axis:   0%|          | 0/45 [00:00<?, ?it/s]"
     ]
    },
    {
     "name": "stdout",
     "output_type": "stream",
     "text": [
      "Sorting by x axis...0.12s\n"
     ]
    },
    {
     "name": "stderr",
     "output_type": "stream",
     "text": [
      "split y-axis: 100%|██████████| 45/45 [00:00<00:00, 259.52it/s]\n",
      "Fill batches:   0%|          | 0/221 [00:00<?, ?it/s][Parallel(n_jobs=-1)]: Using backend LokyBackend with 4 concurrent workers.\n",
      "[Parallel(n_jobs=-1)]: Done   2 tasks      | elapsed:    0.0s\n",
      "Fill batches: 100%|██████████| 221/221 [00:00<00:00, 12124.80it/s]\n",
      "[Parallel(n_jobs=-1)]: Done   8 tasks      | elapsed:    0.0s\n",
      "[Parallel(n_jobs=-1)]: Done  33 tasks      | elapsed:    0.1s\n",
      "[Parallel(n_jobs=-1)]: Done  58 tasks      | elapsed:    0.1s\n",
      "[Parallel(n_jobs=-1)]: Done  93 tasks      | elapsed:    0.2s\n",
      "[Parallel(n_jobs=-1)]: Done 128 tasks      | elapsed:    0.2s\n",
      "[Parallel(n_jobs=-1)]: Done 173 tasks      | elapsed:    0.3s\n",
      "[Parallel(n_jobs=-1)]: Done 221 out of 221 | elapsed:    0.4s finished\n",
      "100%|██████████| 1/1 [00:01<00:00,  1.63s/it]\n"
     ]
    },
    {
     "name": "stdout",
     "output_type": "stream",
     "text": [
      "Sorting by x axis...2.47s\n"
     ]
    },
    {
     "name": "stderr",
     "output_type": "stream",
     "text": [
      "split y-axis: 100%|██████████| 110/110 [00:03<00:00, 36.40it/s]\n",
      "Fill batches:   0%|          | 0/2634 [00:00<?, ?it/s][Parallel(n_jobs=-1)]: Using backend LokyBackend with 4 concurrent workers.\n",
      "[Parallel(n_jobs=-1)]: Done   2 tasks      | elapsed:    0.2s\n",
      "Fill batches:   0%|          | 8/2634 [00:00<00:53, 48.90it/s][Parallel(n_jobs=-1)]: Done   8 tasks      | elapsed:    0.2s\n",
      "Fill batches:  39%|███▉      | 1032/2634 [00:03<00:05, 284.21it/s][Parallel(n_jobs=-1)]: Done 1288 tasks      | elapsed:    6.7s\n",
      "Fill batches: 100%|██████████| 2634/2634 [00:06<00:00, 392.75it/s]\n",
      "[Parallel(n_jobs=-1)]: Done 1842 tasks      | elapsed:    7.3s\n",
      "[Parallel(n_jobs=-1)]: Done 2182 tasks      | elapsed:    7.7s\n",
      "[Parallel(n_jobs=-1)]: Done 2280 tasks      | elapsed:    8.0s\n",
      "[Parallel(n_jobs=-1)]: Done 2406 tasks      | elapsed:    8.5s\n",
      "[Parallel(n_jobs=-1)]: Done 2532 tasks      | elapsed:    9.0s\n",
      "[Parallel(n_jobs=-1)]: Done 2634 out of 2634 | elapsed:    9.4s finished\n"
     ]
    },
    {
     "name": "stdout",
     "output_type": "stream",
     "text": [
      "38.708855390548706\n"
     ]
    },
    {
     "data": {
      "text/plain": "<data_utils.MastersDataset.MastersDataset at 0x7ff967f4f850>"
     },
     "execution_count": 5,
     "metadata": {},
     "output_type": "execute_result"
    }
   ],
   "source": [
    "load(\"/home/luc/PycharmProjects/Pointnet_Pointnet2_pytorch/data/PatrickData/Bagni_Nerone/5%\")"
   ],
   "metadata": {
    "collapsed": false,
    "ExecuteTime": {
     "end_time": "2023-05-13T17:14:46.161885646Z",
     "start_time": "2023-05-13T17:14:07.453076322Z"
    }
   }
  },
  {
   "cell_type": "code",
   "execution_count": 7,
   "outputs": [
    {
     "name": "stderr",
     "output_type": "stream",
     "text": [
      "100%|██████████| 1/1 [00:09<00:00,  9.40s/it]\n"
     ]
    },
    {
     "name": "stdout",
     "output_type": "stream",
     "text": [
      "Sorting by x axis..."
     ]
    },
    {
     "name": "stderr",
     "output_type": "stream",
     "text": [
      "split y-axis: 100%|██████████| 16/16 [00:15<00:00,  1.03it/s]\n",
      "Fill batches: 100%|██████████| 278/278 [00:45<00:00,  6.10it/s]"
     ]
    },
    {
     "name": "stdout",
     "output_type": "stream",
     "text": [
      "11.69s\n",
      "123.96238970756531\n"
     ]
    },
    {
     "name": "stderr",
     "output_type": "stream",
     "text": [
      "\n"
     ]
    },
    {
     "data": {
      "text/plain": "<data_utils.MastersDataset.MastersDataset at 0x7f4b58370510>"
     },
     "execution_count": 7,
     "metadata": {},
     "output_type": "execute_result"
    }
   ],
   "source": [
    "load(\"/home/luc/PycharmProjects/Pointnet_Pointnet2_pytorch/data/PatrickData/Church/2.5%\")"
   ],
   "metadata": {
    "collapsed": false,
    "ExecuteTime": {
     "end_time": "2023-05-13T17:32:30.030358096Z",
     "start_time": "2023-05-13T17:30:26.061730379Z"
    }
   }
  },
  {
   "cell_type": "code",
   "execution_count": 8,
   "outputs": [
    {
     "name": "stderr",
     "output_type": "stream",
     "text": [
      "100%|██████████| 1/1 [00:02<00:00,  2.51s/it]\n"
     ]
    },
    {
     "name": "stdout",
     "output_type": "stream",
     "text": [
      "Sorting by x axis...10.82s\n"
     ]
    },
    {
     "name": "stderr",
     "output_type": "stream",
     "text": [
      "split y-axis: 100%|██████████| 52/52 [00:13<00:00,  3.75it/s] \n",
      "Fill batches: 100%|██████████| 388/388 [00:53<00:00,  7.29it/s]"
     ]
    },
    {
     "name": "stdout",
     "output_type": "stream",
     "text": [
      "115.99724841117859\n"
     ]
    },
    {
     "name": "stderr",
     "output_type": "stream",
     "text": [
      "\n"
     ]
    },
    {
     "data": {
      "text/plain": "<data_utils.MastersDataset.MastersDataset at 0x7f4ac8b96d10>"
     },
     "execution_count": 8,
     "metadata": {},
     "output_type": "execute_result"
    }
   ],
   "source": [
    "load(\"/home/luc/PycharmProjects/Pointnet_Pointnet2_pytorch/data/PatrickData/Church/5%\")"
   ],
   "metadata": {
    "collapsed": false,
    "ExecuteTime": {
     "end_time": "2023-05-13T17:34:26.046107577Z",
     "start_time": "2023-05-13T17:32:30.032862217Z"
    }
   }
  },
  {
   "cell_type": "code",
   "execution_count": 11,
   "outputs": [
    {
     "name": "stderr",
     "output_type": "stream",
     "text": [
      "100%|██████████| 1/1 [00:00<00:00,  4.32it/s]\n"
     ]
    },
    {
     "name": "stdout",
     "output_type": "stream",
     "text": [
      "Sorting by x axis...0.88s\n"
     ]
    },
    {
     "name": "stderr",
     "output_type": "stream",
     "text": [
      "split y-axis: 100%|██████████| 103/103 [00:01<00:00, 85.38it/s]\n",
      "Fill batches: 100%|██████████| 2571/2571 [02:38<00:00, 16.27it/s]"
     ]
    },
    {
     "name": "stdout",
     "output_type": "stream",
     "text": [
      "167.03471493721008\n"
     ]
    },
    {
     "name": "stderr",
     "output_type": "stream",
     "text": [
      "\n"
     ]
    },
    {
     "data": {
      "text/plain": "<data_utils.MastersDataset.MastersDataset at 0x7f4ac8148810>"
     },
     "execution_count": 11,
     "metadata": {},
     "output_type": "execute_result"
    }
   ],
   "source": [
    "load(\"/home/luc/PycharmProjects/Pointnet_Pointnet2_pytorch/data/PatrickData/Lunnahoja/2.5%\")"
   ],
   "metadata": {
    "collapsed": false,
    "ExecuteTime": {
     "end_time": "2023-05-13T17:40:59.274199630Z",
     "start_time": "2023-05-13T17:38:12.226184940Z"
    }
   }
  },
  {
   "cell_type": "code",
   "execution_count": 12,
   "outputs": [
    {
     "name": "stderr",
     "output_type": "stream",
     "text": [
      "100%|██████████| 1/1 [00:00<00:00,  7.36it/s]\n"
     ]
    },
    {
     "name": "stdout",
     "output_type": "stream",
     "text": [
      "Sorting by x axis...0.96s\n"
     ]
    },
    {
     "name": "stderr",
     "output_type": "stream",
     "text": [
      "split y-axis: 100%|██████████| 103/103 [00:01<00:00, 83.76it/s]\n",
      "Fill batches: 100%|██████████| 2537/2537 [02:36<00:00, 16.22it/s]"
     ]
    },
    {
     "name": "stdout",
     "output_type": "stream",
     "text": [
      "176.459538936615\n"
     ]
    },
    {
     "name": "stderr",
     "output_type": "stream",
     "text": [
      "\n"
     ]
    },
    {
     "data": {
      "text/plain": "<data_utils.MastersDataset.MastersDataset at 0x7f4b58370ed0>"
     },
     "execution_count": 12,
     "metadata": {},
     "output_type": "execute_result"
    }
   ],
   "source": [
    "load(\"/home/luc/PycharmProjects/Pointnet_Pointnet2_pytorch/data/PatrickData/Lunnahoja/5%\")"
   ],
   "metadata": {
    "collapsed": false,
    "ExecuteTime": {
     "end_time": "2023-05-13T17:43:55.746155783Z",
     "start_time": "2023-05-13T17:40:59.317559039Z"
    }
   }
  },
  {
   "cell_type": "code",
   "execution_count": 13,
   "outputs": [
    {
     "name": "stderr",
     "output_type": "stream",
     "text": [
      "100%|██████████| 1/1 [00:00<00:00,  2.71it/s]\n"
     ]
    },
    {
     "name": "stdout",
     "output_type": "stream",
     "text": [
      "Sorting by x axis...1.40s\n"
     ]
    },
    {
     "name": "stderr",
     "output_type": "stream",
     "text": [
      "split y-axis: 100%|██████████| 72/72 [00:01<00:00, 41.40it/s] \n",
      "Fill batches: 100%|██████████| 728/728 [00:28<00:00, 25.63it/s] "
     ]
    },
    {
     "name": "stdout",
     "output_type": "stream",
     "text": [
      "36.69796800613403\n"
     ]
    },
    {
     "name": "stderr",
     "output_type": "stream",
     "text": [
      "\n"
     ]
    },
    {
     "data": {
      "text/plain": "<data_utils.MastersDataset.MastersDataset at 0x7f4b5beaf950>"
     },
     "execution_count": 13,
     "metadata": {},
     "output_type": "execute_result"
    }
   ],
   "source": [
    "load(\"/home/luc/PycharmProjects/Pointnet_Pointnet2_pytorch/data/PatrickData/Montelupo/2.5%\")"
   ],
   "metadata": {
    "collapsed": false,
    "ExecuteTime": {
     "end_time": "2023-05-13T17:44:32.482025496Z",
     "start_time": "2023-05-13T17:43:55.745773243Z"
    }
   }
  },
  {
   "cell_type": "code",
   "execution_count": 14,
   "outputs": [
    {
     "name": "stderr",
     "output_type": "stream",
     "text": [
      "100%|██████████| 1/1 [00:00<00:00,  2.77it/s]\n"
     ]
    },
    {
     "name": "stdout",
     "output_type": "stream",
     "text": [
      "Sorting by x axis...1.28s\n"
     ]
    },
    {
     "name": "stderr",
     "output_type": "stream",
     "text": [
      "split y-axis: 100%|██████████| 72/72 [00:01<00:00, 40.83it/s] \n",
      "Fill batches: 100%|██████████| 719/719 [00:26<00:00, 27.16it/s] "
     ]
    },
    {
     "name": "stdout",
     "output_type": "stream",
     "text": [
      "34.60700869560242\n"
     ]
    },
    {
     "name": "stderr",
     "output_type": "stream",
     "text": [
      "\n"
     ]
    },
    {
     "data": {
      "text/plain": "<data_utils.MastersDataset.MastersDataset at 0x7f4b58365c90>"
     },
     "execution_count": 14,
     "metadata": {},
     "output_type": "execute_result"
    }
   ],
   "source": [
    "load(\"/home/luc/PycharmProjects/Pointnet_Pointnet2_pytorch/data/PatrickData/Montelupo/5%\")"
   ],
   "metadata": {
    "collapsed": false,
    "ExecuteTime": {
     "end_time": "2023-05-13T17:45:07.118560697Z",
     "start_time": "2023-05-13T17:44:32.481655989Z"
    }
   }
  },
  {
   "cell_type": "code",
   "execution_count": 15,
   "outputs": [
    {
     "name": "stderr",
     "output_type": "stream",
     "text": [
      "100%|██████████| 1/1 [00:00<00:00,  1.00it/s]\n"
     ]
    },
    {
     "name": "stdout",
     "output_type": "stream",
     "text": [
      "Sorting by x axis...1.21s\n"
     ]
    },
    {
     "name": "stderr",
     "output_type": "stream",
     "text": [
      "split y-axis: 100%|██████████| 68/68 [00:01<00:00, 43.26it/s]\n",
      "Fill batches: 100%|██████████| 1251/1251 [00:57<00:00, 21.91it/s]"
     ]
    },
    {
     "name": "stdout",
     "output_type": "stream",
     "text": [
      "67.38724112510681\n"
     ]
    },
    {
     "name": "stderr",
     "output_type": "stream",
     "text": [
      "\n"
     ]
    },
    {
     "data": {
      "text/plain": "<data_utils.MastersDataset.MastersDataset at 0x7f4b5bebebd0>"
     },
     "execution_count": 15,
     "metadata": {},
     "output_type": "execute_result"
    }
   ],
   "source": [
    "load(\"/home/luc/PycharmProjects/Pointnet_Pointnet2_pytorch/data/PatrickData/Monument/2.5%\")"
   ],
   "metadata": {
    "collapsed": false,
    "ExecuteTime": {
     "end_time": "2023-05-13T17:46:14.506201626Z",
     "start_time": "2023-05-13T17:45:07.091627797Z"
    }
   }
  },
  {
   "cell_type": "code",
   "execution_count": 16,
   "outputs": [
    {
     "name": "stderr",
     "output_type": "stream",
     "text": [
      "100%|██████████| 1/1 [00:00<00:00,  2.60it/s]\n"
     ]
    },
    {
     "name": "stdout",
     "output_type": "stream",
     "text": [
      "Sorting by x axis...1.17s\n"
     ]
    },
    {
     "name": "stderr",
     "output_type": "stream",
     "text": [
      "split y-axis: 100%|██████████| 68/68 [00:01<00:00, 44.99it/s]\n",
      "Fill batches: 100%|██████████| 1253/1253 [02:00<00:00, 10.38it/s]"
     ]
    },
    {
     "name": "stdout",
     "output_type": "stream",
     "text": [
      "129.49908590316772\n"
     ]
    },
    {
     "name": "stderr",
     "output_type": "stream",
     "text": [
      "\n"
     ]
    },
    {
     "data": {
      "text/plain": "<data_utils.MastersDataset.MastersDataset at 0x7f4acc1c4f90>"
     },
     "execution_count": 16,
     "metadata": {},
     "output_type": "execute_result"
    }
   ],
   "source": [
    "load(\"/home/luc/PycharmProjects/Pointnet_Pointnet2_pytorch/data/PatrickData/Monument/5%\")"
   ],
   "metadata": {
    "collapsed": false,
    "ExecuteTime": {
     "end_time": "2023-05-13T17:48:24.011403548Z",
     "start_time": "2023-05-13T17:46:14.505875433Z"
    }
   }
  },
  {
   "cell_type": "code",
   "execution_count": 4,
   "outputs": [
    {
     "name": "stderr",
     "output_type": "stream",
     "text": [
      "100%|██████████| 1/1 [00:00<00:00, 19.28it/s]\n"
     ]
    },
    {
     "name": "stdout",
     "output_type": "stream",
     "text": [
      "Sorting by x axis...0.15s\n"
     ]
    },
    {
     "name": "stderr",
     "output_type": "stream",
     "text": [
      "split y-axis: 100%|██████████| 120/120 [00:00<00:00, 432.49it/s]\n",
      "Fill batches:   0%|          | 0/232 [00:00<?, ?it/s][Parallel(n_jobs=-1)]: Using backend LokyBackend with 4 concurrent workers.\n",
      "[Parallel(n_jobs=-1)]: Done   2 tasks      | elapsed:    0.6s\n",
      "Fill batches: 100%|██████████| 232/232 [00:00<00:00, 387.19it/s]\n",
      "[Parallel(n_jobs=-1)]: Done   8 tasks      | elapsed:    0.6s\n",
      "[Parallel(n_jobs=-1)]: Done  33 tasks      | elapsed:    0.7s\n",
      "[Parallel(n_jobs=-1)]: Done  58 tasks      | elapsed:    0.7s\n",
      "[Parallel(n_jobs=-1)]: Done  93 tasks      | elapsed:    0.8s\n",
      "[Parallel(n_jobs=-1)]: Done 128 tasks      | elapsed:    0.8s\n",
      "[Parallel(n_jobs=-1)]: Done 173 tasks      | elapsed:    0.9s\n",
      "[Parallel(n_jobs=-1)]: Done 218 tasks      | elapsed:    0.9s\n",
      "[Parallel(n_jobs=-1)]: Done 232 out of 232 | elapsed:    0.9s finished\n",
      "100%|██████████| 1/1 [00:01<00:00,  1.90s/it]\n"
     ]
    },
    {
     "name": "stdout",
     "output_type": "stream",
     "text": [
      "Sorting by x axis...8.49s\n"
     ]
    },
    {
     "name": "stderr",
     "output_type": "stream",
     "text": [
      "split y-axis: 100%|██████████| 238/238 [00:09<00:00, 25.66it/s] \n",
      "Fill batches:   0%|          | 0/11227 [00:00<?, ?it/s][Parallel(n_jobs=-1)]: Using backend LokyBackend with 4 concurrent workers.\n",
      "[Parallel(n_jobs=-1)]: Done   2 tasks      | elapsed:    0.5s\n",
      "Fill batches:   0%|          | 8/11227 [00:00<10:59, 17.01it/s][Parallel(n_jobs=-1)]: Done   8 tasks      | elapsed:    0.5s\n",
      "Fill batches:   9%|▉         | 1032/11227 [00:09<01:33, 109.50it/s][Parallel(n_jobs=-1)]: Done 1288 tasks      | elapsed:   18.1s\n",
      "Fill batches:  27%|██▋       | 3080/11227 [00:26<01:08, 118.48it/s][Parallel(n_jobs=-1)]: Done 2568 tasks      | elapsed:   27.4s\n",
      "Fill batches:  37%|███▋      | 4104/11227 [00:35<00:59, 118.97it/s][Parallel(n_jobs=-1)]: Done 4360 tasks      | elapsed:   43.5s\n",
      "Fill batches:  55%|█████▍    | 6152/11227 [00:52<00:46, 109.99it/s][Parallel(n_jobs=-1)]: Done 6152 tasks      | elapsed:   55.4s\n",
      "Fill batches:  73%|███████▎  | 8200/11227 [01:11<00:27, 108.26it/s][Parallel(n_jobs=-1)]: Done 8456 tasks      | elapsed:  1.3min\n",
      "Fill batches: 100%|██████████| 11227/11227 [01:31<00:00, 122.82it/s]\n",
      "[Parallel(n_jobs=-1)]: Done 10064 tasks      | elapsed:  1.6min\n",
      "[Parallel(n_jobs=-1)]: Done 10560 tasks      | elapsed:  1.6min\n",
      "[Parallel(n_jobs=-1)]: Done 10824 tasks      | elapsed:  1.6min\n",
      "[Parallel(n_jobs=-1)]: Done 11136 tasks      | elapsed:  1.7min\n",
      "[Parallel(n_jobs=-1)]: Done 11227 out of 11227 | elapsed:  1.7min finished\n"
     ]
    },
    {
     "name": "stdout",
     "output_type": "stream",
     "text": [
      "291.7886927127838\n"
     ]
    },
    {
     "data": {
      "text/plain": "<data_utils.MastersDataset.MastersDataset at 0x7f164477f2d0>"
     },
     "execution_count": 4,
     "metadata": {},
     "output_type": "execute_result"
    }
   ],
   "source": [
    "load(\"/home/luc/PycharmProjects/Pointnet_Pointnet2_pytorch/data/PatrickData/Piazza/2.5%\")"
   ],
   "metadata": {
    "collapsed": false,
    "ExecuteTime": {
     "end_time": "2023-05-13T17:55:06.484801617Z",
     "start_time": "2023-05-13T17:50:14.850722425Z"
    }
   }
  },
  {
   "cell_type": "code",
   "execution_count": 5,
   "outputs": [
    {
     "name": "stderr",
     "output_type": "stream",
     "text": [
      "100%|██████████| 1/1 [00:00<00:00,  8.86it/s]\n"
     ]
    },
    {
     "name": "stdout",
     "output_type": "stream",
     "text": [
      "Sorting by x axis...0.34s\n"
     ]
    },
    {
     "name": "stderr",
     "output_type": "stream",
     "text": [
      "split y-axis: 100%|██████████| 152/152 [00:00<00:00, 252.03it/s]\n",
      "Fill batches:   0%|          | 0/526 [00:00<?, ?it/s][Parallel(n_jobs=-1)]: Using backend LokyBackend with 4 concurrent workers.\n",
      "[Parallel(n_jobs=-1)]: Done   2 tasks      | elapsed:    0.0s\n",
      "Fill batches: 100%|██████████| 526/526 [00:00<00:00, 13940.46it/s]\n",
      "[Parallel(n_jobs=-1)]: Done   8 tasks      | elapsed:    0.1s\n",
      "[Parallel(n_jobs=-1)]: Done  68 tasks      | elapsed:    0.2s\n",
      "[Parallel(n_jobs=-1)]: Done 128 tasks      | elapsed:    0.3s\n",
      "[Parallel(n_jobs=-1)]: Done 212 tasks      | elapsed:    0.4s\n",
      "[Parallel(n_jobs=-1)]: Done 296 tasks      | elapsed:    0.4s\n",
      "[Parallel(n_jobs=-1)]: Done 404 tasks      | elapsed:    0.6s\n",
      "[Parallel(n_jobs=-1)]: Done 526 out of 526 | elapsed:    0.7s finished\n",
      "100%|██████████| 1/1 [00:03<00:00,  3.84s/it]\n"
     ]
    },
    {
     "name": "stdout",
     "output_type": "stream",
     "text": [
      "Sorting by x axis..."
     ]
    },
    {
     "name": "stderr",
     "output_type": "stream",
     "text": [
      "split y-axis: 100%|██████████| 238/238 [00:09<00:00, 25.82it/s]\n",
      "Fill batches:   0%|          | 0/10986 [00:00<?, ?it/s][Parallel(n_jobs=-1)]: Using backend LokyBackend with 4 concurrent workers.\n",
      "[Parallel(n_jobs=-1)]: Done   2 tasks      | elapsed:    0.4s\n",
      "Fill batches:   0%|          | 8/10986 [00:00<10:14, 17.87it/s][Parallel(n_jobs=-1)]: Done   8 tasks      | elapsed:    0.5s\n",
      "Fill batches:   9%|▉         | 1032/10986 [00:08<01:25, 116.85it/s][Parallel(n_jobs=-1)]: Done 1288 tasks      | elapsed:   17.8s\n",
      "Fill batches:  28%|██▊       | 3080/10986 [00:26<01:08, 116.16it/s][Parallel(n_jobs=-1)]: Done 2568 tasks      | elapsed:   26.9s\n",
      "Fill batches:  37%|███▋      | 4104/10986 [00:35<01:00, 114.23it/s][Parallel(n_jobs=-1)]: Done 4360 tasks      | elapsed:   44.4s\n",
      "Fill batches:  56%|█████▌    | 6152/10986 [00:52<00:40, 120.49it/s][Parallel(n_jobs=-1)]: Done 6152 tasks      | elapsed:   54.2s\n",
      "Fill batches:  75%|███████▍  | 8200/10986 [01:09<00:23, 118.57it/s][Parallel(n_jobs=-1)]: Done 8456 tasks      | elapsed:  1.3min\n",
      "Fill batches: 100%|██████████| 10986/10986 [01:26<00:00, 126.67it/s]\n",
      "[Parallel(n_jobs=-1)]: Done 10284 tasks      | elapsed:  1.5min\n",
      "[Parallel(n_jobs=-1)]: Done 10482 tasks      | elapsed:  1.5min\n",
      "[Parallel(n_jobs=-1)]: Done 10680 tasks      | elapsed:  1.5min\n",
      "[Parallel(n_jobs=-1)]: Done 10914 tasks      | elapsed:  1.6min\n",
      "[Parallel(n_jobs=-1)]: Done 10986 out of 10986 | elapsed:  1.6min finished\n"
     ]
    },
    {
     "name": "stdout",
     "output_type": "stream",
     "text": [
      "7.53s\n",
      "294.78298258781433\n"
     ]
    },
    {
     "data": {
      "text/plain": "<data_utils.MastersDataset.MastersDataset at 0x7f164473b810>"
     },
     "execution_count": 5,
     "metadata": {},
     "output_type": "execute_result"
    }
   ],
   "source": [
    "load(\"/home/luc/PycharmProjects/Pointnet_Pointnet2_pytorch/data/PatrickData/Piazza/5%\")"
   ],
   "metadata": {
    "collapsed": false,
    "ExecuteTime": {
     "end_time": "2023-05-13T18:00:06.057738689Z",
     "start_time": "2023-05-13T17:55:06.487956489Z"
    }
   }
  },
  {
   "cell_type": "code",
   "execution_count": null,
   "outputs": [],
   "source": [],
   "metadata": {
    "collapsed": false
   }
  }
 ],
 "metadata": {
  "kernelspec": {
   "display_name": "Python 3",
   "language": "python",
   "name": "python3"
  },
  "language_info": {
   "codemirror_mode": {
    "name": "ipython",
    "version": 2
   },
   "file_extension": ".py",
   "mimetype": "text/x-python",
   "name": "python",
   "nbconvert_exporter": "python",
   "pygments_lexer": "ipython2",
   "version": "2.7.6"
  }
 },
 "nbformat": 4,
 "nbformat_minor": 0
}
