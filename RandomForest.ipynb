{
 "cells": [
  {
   "cell_type": "code",
   "metadata": {
    "collapsed": true,
    "pycharm": {
     "name": "#%%\n"
    }
   },
   "source": [
    "import pandas as pd\n",
    "import numpy as np\n",
    "\n",
    "from Visualisation_utils import visualise_batch, visualise_prediction, turbo_colormap_data\n",
    "from data_utils.S3DISDataLoader import S3DISDataset\n",
    "\n",
    "import torch\n",
    "from pathlib import Path\n",
    "\n",
    "from tqdm import tqdm\n",
    "import pptk\n",
    "import os\n"
   ],
   "execution_count": 1,
   "outputs": []
  },
  {
   "cell_type": "code",
   "execution_count": 2,
   "outputs": [],
   "source": [
    "data_root = 'data/s3dis/songomnara/'\n",
    "rooms = sorted(os.listdir(data_root))\n",
    "train = rooms[:8]\n",
    "test = rooms[8:]\n",
    "\n",
    "for i, room in enumerate(train):\n",
    "    train[i] = np.load(f'{data_root}/{train[i]}')\n",
    "\n",
    "for i, room in enumerate(test):\n",
    "    test[i] = np.load(f'{data_root}/{test[i]}')\n"
   ],
   "metadata": {
    "collapsed": false,
    "pycharm": {
     "name": "#%%\n"
    }
   }
  },
  {
   "cell_type": "code",
   "execution_count": 3,
   "outputs": [],
   "source": [
    "train = np.vstack(train)\n",
    "test = np.vstack(test)"
   ],
   "metadata": {
    "collapsed": false,
    "pycharm": {
     "name": "#%%\n"
    }
   }
  },
  {
   "cell_type": "markdown",
   "source": [
    "So.. increasing the depth of the tree actually reduces the accuracy on Songo Mnara from 80% down to 76% and takes\n",
    "significantly longer (say 20min) to train. This is suprising"
   ],
   "metadata": {
    "collapsed": false,
    "pycharm": {
     "name": "#%% md\n"
    }
   }
  },
  {
   "cell_type": "code",
   "execution_count": 4,
   "outputs": [
    {
     "data": {
      "text/plain": "RandomForestClassifier(max_depth=30, min_samples_leaf=0.0001, n_estimators=65,\n                       n_jobs=4)"
     },
     "execution_count": 4,
     "metadata": {},
     "output_type": "execute_result"
    }
   ],
   "source": [
    "from sklearn.ensemble import RandomForestClassifier\n",
    "classifier = RandomForestClassifier(n_estimators=65, max_depth=30, min_samples_leaf=0.0001, n_jobs=4)\n",
    "\n",
    "classifier.fit(X=train[:,:6], y=train[:,6])"
   ],
   "metadata": {
    "collapsed": false,
    "pycharm": {
     "name": "#%%\n"
    }
   }
  },
  {
   "cell_type": "code",
   "execution_count": 5,
   "outputs": [],
   "source": [
    "y_pred = classifier.predict(test[:,:6])"
   ],
   "metadata": {
    "collapsed": false,
    "pycharm": {
     "name": "#%%\n"
    }
   }
  },
  {
   "cell_type": "code",
   "execution_count": null,
   "outputs": [],
   "source": [
    "# Evaluating the algorithm\n",
    "from sklearn.metrics import classification_report, confusion_matrix, accuracy_score\n",
    "print(f\"confusion_matrix:\\n{confusion_matrix(test[:,6], y_pred)}\")\n",
    "print(f\"classification_report:\\n{classification_report(test[:,6], y_pred)}\")\n",
    "print(f\"accuracy score: {accuracy_score(test[:,6], y_pred)}\")\n",
    "print(f\"Feature importances: {classifier.feature_importances_}\")"
   ],
   "metadata": {
    "collapsed": false,
    "pycharm": {
     "name": "#%%\n"
    }
   }
  },
  {
   "cell_type": "code",
   "execution_count": 7,
   "outputs": [],
   "source": [
    "v = pptk.viewer(test[:,:3], test[:,6], y_pred)\n",
    "v.color_map(turbo_colormap_data)"
   ],
   "metadata": {
    "collapsed": false,
    "pycharm": {
     "name": "#%%\n"
    }
   }
  },
  {
   "cell_type": "code",
   "execution_count": 7,
   "outputs": [],
   "source": [],
   "metadata": {
    "collapsed": false,
    "pycharm": {
     "name": "#%%\n"
    }
   }
  }
 ],
 "metadata": {
  "kernelspec": {
   "name": "python3710jvsc74a57bd0a2eaba42d29a280ba64e1fd1d620a9d7d92fed1efadd6147bd608a3b99f369c9",
   "language": "python",
   "display_name": "Python 3.7.10 64-bit ('Pointnet_Pointnet2_pytorch': conda)"
  },
  "language_info": {
   "codemirror_mode": {
    "name": "ipython",
    "version": 2
   },
   "file_extension": ".py",
   "mimetype": "text/x-python",
   "name": "python",
   "nbconvert_exporter": "python",
   "pygments_lexer": "ipython2",
   "version": "2.7.6"
  }
 },
 "nbformat": 4,
 "nbformat_minor": 0
}